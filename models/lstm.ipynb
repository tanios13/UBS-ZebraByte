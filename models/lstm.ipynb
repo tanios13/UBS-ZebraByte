{
 "cells": [
  {
   "cell_type": "markdown",
   "metadata": {},
   "source": [
    "# 1. Data processing"
   ]
  },
  {
   "cell_type": "code",
   "execution_count": 2,
   "metadata": {},
   "outputs": [],
   "source": [
    "import pandas as pd"
   ]
  },
  {
   "cell_type": "code",
   "execution_count": 3,
   "metadata": {},
   "outputs": [],
   "source": [
    "df = pd.read_csv(\"./data/skylab_instagram_datathon_dataset.csv\", delimiter=\";\")\n",
    "\n",
    "# Convert 'date' column to datetime format\n",
    "df[\"period_end_date\"] = pd.to_datetime(df['period_end_date'], format=\"%Y-%m-%d\")\n",
    "\n",
    "# Sort DataFrame by 'date' column in ascending order\n",
    "df = df.sort_values(by='period_end_date', ascending=True)"
   ]
  },
  {
   "cell_type": "code",
   "execution_count": 4,
   "metadata": {},
   "outputs": [],
   "source": [
    "df = df.rename(columns={\"business_entity_doing_business_as_name\": \"brand\", \"legal_entity_name\": \"company\", \"ultimate_parent_legal_entity_name\": \"parent_company\"})"
   ]
  },
  {
   "cell_type": "markdown",
   "metadata": {},
   "source": [
    "#### Since we noticed companies have the same number of likes, pictures, followers, videos and comments, we are only using the brand as identifier at first"
   ]
  },
  {
   "cell_type": "code",
   "execution_count": 5,
   "metadata": {},
   "outputs": [
    {
     "data": {
      "text/html": [
       "<div>\n",
       "<style scoped>\n",
       "    .dataframe tbody tr th:only-of-type {\n",
       "        vertical-align: middle;\n",
       "    }\n",
       "\n",
       "    .dataframe tbody tr th {\n",
       "        vertical-align: top;\n",
       "    }\n",
       "\n",
       "    .dataframe thead th {\n",
       "        text-align: right;\n",
       "    }\n",
       "</style>\n",
       "<table border=\"1\" class=\"dataframe\">\n",
       "  <thead>\n",
       "    <tr style=\"text-align: right;\">\n",
       "      <th></th>\n",
       "      <th>period_end_date</th>\n",
       "      <th>brand</th>\n",
       "      <th>followers</th>\n",
       "      <th>pictures</th>\n",
       "      <th>videos</th>\n",
       "      <th>comments</th>\n",
       "      <th>likes</th>\n",
       "    </tr>\n",
       "  </thead>\n",
       "  <tbody>\n",
       "    <tr>\n",
       "      <th>77460</th>\n",
       "      <td>2015-01-03</td>\n",
       "      <td>Hering</td>\n",
       "      <td>NaN</td>\n",
       "      <td>21.0</td>\n",
       "      <td>2.0</td>\n",
       "      <td>360.0</td>\n",
       "      <td>20165.0</td>\n",
       "    </tr>\n",
       "    <tr>\n",
       "      <th>116410</th>\n",
       "      <td>2015-01-03</td>\n",
       "      <td>Longines</td>\n",
       "      <td>NaN</td>\n",
       "      <td>3.0</td>\n",
       "      <td>NaN</td>\n",
       "      <td>21.0</td>\n",
       "      <td>1361.0</td>\n",
       "    </tr>\n",
       "    <tr>\n",
       "      <th>298746</th>\n",
       "      <td>2015-01-03</td>\n",
       "      <td>3.1 Phillip Lim</td>\n",
       "      <td>NaN</td>\n",
       "      <td>5.0</td>\n",
       "      <td>4.0</td>\n",
       "      <td>774.0</td>\n",
       "      <td>28397.0</td>\n",
       "    </tr>\n",
       "    <tr>\n",
       "      <th>226467</th>\n",
       "      <td>2015-01-03</td>\n",
       "      <td>Quorn</td>\n",
       "      <td>NaN</td>\n",
       "      <td>14.0</td>\n",
       "      <td>NaN</td>\n",
       "      <td>57.0</td>\n",
       "      <td>557.0</td>\n",
       "    </tr>\n",
       "    <tr>\n",
       "      <th>604225</th>\n",
       "      <td>2015-01-03</td>\n",
       "      <td>Proenza Schouler</td>\n",
       "      <td>250681.0</td>\n",
       "      <td>NaN</td>\n",
       "      <td>NaN</td>\n",
       "      <td>NaN</td>\n",
       "      <td>NaN</td>\n",
       "    </tr>\n",
       "  </tbody>\n",
       "</table>\n",
       "</div>"
      ],
      "text/plain": [
       "       period_end_date             brand  followers  pictures  videos  \\\n",
       "77460       2015-01-03            Hering        NaN      21.0     2.0   \n",
       "116410      2015-01-03          Longines        NaN       3.0     NaN   \n",
       "298746      2015-01-03   3.1 Phillip Lim        NaN       5.0     4.0   \n",
       "226467      2015-01-03             Quorn        NaN      14.0     NaN   \n",
       "604225      2015-01-03  Proenza Schouler   250681.0       NaN     NaN   \n",
       "\n",
       "        comments    likes  \n",
       "77460      360.0  20165.0  \n",
       "116410      21.0   1361.0  \n",
       "298746     774.0  28397.0  \n",
       "226467      57.0    557.0  \n",
       "604225       NaN      NaN  "
      ]
     },
     "execution_count": 5,
     "metadata": {},
     "output_type": "execute_result"
    }
   ],
   "source": [
    "columns = [\"period_end_date\", \"brand\", \"followers\", \"pictures\", \"videos\", \"comments\", \"likes\"]\n",
    "df = df[columns]\n",
    "df.drop_duplicates(inplace=True)\n",
    "df.head()"
   ]
  },
  {
   "cell_type": "code",
   "execution_count": 6,
   "metadata": {},
   "outputs": [],
   "source": [
    "# We also separete the all brands aggregator from the individual ones\n",
    "all_brands = df[df[\"brand\"] == \"All Brands\"]\n",
    "brands = df[df[\"brand\"] != \"All Brands\"]"
   ]
  },
  {
   "cell_type": "markdown",
   "metadata": {},
   "source": [
    "#### We now take care of the data cleaning"
   ]
  },
  {
   "cell_type": "code",
   "execution_count": 7,
   "metadata": {},
   "outputs": [
    {
     "name": "stdout",
     "output_type": "stream",
     "text": [
      "Column followers contains na\n",
      "Column pictures contains na\n",
      "Column videos contains na\n",
      "Column comments contains na\n",
      "Column likes contains na\n"
     ]
    }
   ],
   "source": [
    "# Check the missing values\n",
    "for column in columns:\n",
    "    if len(brands[brands[column].isna()]):\n",
    "        print(f\"Column {column} contains na\")"
   ]
  },
  {
   "cell_type": "markdown",
   "metadata": {},
   "source": [
    "#### We now check the location of these na (beginning, end or intrusive)"
   ]
  },
  {
   "cell_type": "code",
   "execution_count": 8,
   "metadata": {},
   "outputs": [],
   "source": [
    "na_intervals = []\n",
    "columns = [\"followers\", \"comments\", \"likes\", \"pictures\", \"videos\"]\n",
    "brands_names = brands[\"brand\"].unique()\n",
    "\n",
    "for column in columns:\n",
    "    for brand in brands_names:\n",
    "        brand_followers = brands[brands[\"brand\"] == brand][[\"period_end_date\", column]].sort_values(\"period_end_date\")\n",
    "\n",
    "        # Get the bounds of nan\n",
    "        start_nan = brand_followers[brand_followers[column].isna()][\"period_end_date\"].min()\n",
    "        end_nan = brand_followers[brand_followers[column].isna()][\"period_end_date\"].max()\n",
    "\n",
    "        # Get the bounds of not nan\n",
    "        start_not_nan = brand_followers[brand_followers[column].notna()][\"period_end_date\"].min()\n",
    "        end_not_nan = brand_followers[brand_followers[column].notna()][\"period_end_date\"].max()\n",
    "\n",
    "        if (pd.isna(start_nan) or pd.isna(end_nan))\\\n",
    "            or (start_nan < start_not_nan and end_nan < start_not_nan)\\\n",
    "            or (start_nan > end_not_nan or end_nan > end_not_nan):\n",
    "            na_intervals.append({\n",
    "                \"brand\": brand,\n",
    "                \"column\": column,\n",
    "                \"start\": start_nan,\n",
    "                \"end\": end_nan,\n",
    "                \"intruisive_na\": False\n",
    "            })\n",
    "        else:\n",
    "            na_intervals.append({\n",
    "                \"brand\": brand,\n",
    "                \"column\": column,\n",
    "                \"start\": start_nan,\n",
    "                \"end\": end_nan,\n",
    "                \"intruisive_na\": True\n",
    "            })\n",
    "        "
   ]
  },
  {
   "cell_type": "code",
   "execution_count": 9,
   "metadata": {},
   "outputs": [
    {
     "data": {
      "text/html": [
       "<div>\n",
       "<style scoped>\n",
       "    .dataframe tbody tr th:only-of-type {\n",
       "        vertical-align: middle;\n",
       "    }\n",
       "\n",
       "    .dataframe tbody tr th {\n",
       "        vertical-align: top;\n",
       "    }\n",
       "\n",
       "    .dataframe thead th {\n",
       "        text-align: right;\n",
       "    }\n",
       "</style>\n",
       "<table border=\"1\" class=\"dataframe\">\n",
       "  <thead>\n",
       "    <tr style=\"text-align: right;\">\n",
       "      <th></th>\n",
       "      <th>brand</th>\n",
       "      <th>column</th>\n",
       "      <th>start</th>\n",
       "      <th>end</th>\n",
       "      <th>intruisive_na</th>\n",
       "    </tr>\n",
       "  </thead>\n",
       "  <tbody>\n",
       "    <tr>\n",
       "      <th>0</th>\n",
       "      <td>Hering</td>\n",
       "      <td>followers</td>\n",
       "      <td>2015-01-03</td>\n",
       "      <td>2015-04-25</td>\n",
       "      <td>False</td>\n",
       "    </tr>\n",
       "    <tr>\n",
       "      <th>1</th>\n",
       "      <td>Longines</td>\n",
       "      <td>followers</td>\n",
       "      <td>2015-01-03</td>\n",
       "      <td>2018-06-02</td>\n",
       "      <td>False</td>\n",
       "    </tr>\n",
       "    <tr>\n",
       "      <th>2</th>\n",
       "      <td>3.1 Phillip Lim</td>\n",
       "      <td>followers</td>\n",
       "      <td>2015-01-03</td>\n",
       "      <td>2015-05-02</td>\n",
       "      <td>False</td>\n",
       "    </tr>\n",
       "    <tr>\n",
       "      <th>3</th>\n",
       "      <td>Quorn</td>\n",
       "      <td>followers</td>\n",
       "      <td>2015-01-03</td>\n",
       "      <td>2018-03-03</td>\n",
       "      <td>False</td>\n",
       "    </tr>\n",
       "    <tr>\n",
       "      <th>4</th>\n",
       "      <td>Proenza Schouler</td>\n",
       "      <td>followers</td>\n",
       "      <td>NaT</td>\n",
       "      <td>NaT</td>\n",
       "      <td>False</td>\n",
       "    </tr>\n",
       "  </tbody>\n",
       "</table>\n",
       "</div>"
      ],
      "text/plain": [
       "              brand     column      start        end  intruisive_na\n",
       "0            Hering  followers 2015-01-03 2015-04-25          False\n",
       "1          Longines  followers 2015-01-03 2018-06-02          False\n",
       "2   3.1 Phillip Lim  followers 2015-01-03 2015-05-02          False\n",
       "3             Quorn  followers 2015-01-03 2018-03-03          False\n",
       "4  Proenza Schouler  followers        NaT        NaT          False"
      ]
     },
     "execution_count": 9,
     "metadata": {},
     "output_type": "execute_result"
    }
   ],
   "source": [
    "na_intervals_df = pd.DataFrame(na_intervals)\n",
    "na_intervals_df.head()"
   ]
  },
  {
   "cell_type": "code",
   "execution_count": 10,
   "metadata": {},
   "outputs": [
    {
     "data": {
      "text/html": [
       "<div>\n",
       "<style scoped>\n",
       "    .dataframe tbody tr th:only-of-type {\n",
       "        vertical-align: middle;\n",
       "    }\n",
       "\n",
       "    .dataframe tbody tr th {\n",
       "        vertical-align: top;\n",
       "    }\n",
       "\n",
       "    .dataframe thead th {\n",
       "        text-align: right;\n",
       "    }\n",
       "</style>\n",
       "<table border=\"1\" class=\"dataframe\">\n",
       "  <thead>\n",
       "    <tr style=\"text-align: right;\">\n",
       "      <th></th>\n",
       "      <th>brand</th>\n",
       "      <th>column</th>\n",
       "      <th>start</th>\n",
       "      <th>end</th>\n",
       "      <th>intruisive_na</th>\n",
       "    </tr>\n",
       "  </thead>\n",
       "  <tbody>\n",
       "    <tr>\n",
       "      <th>1404</th>\n",
       "      <td>Dysport</td>\n",
       "      <td>comments</td>\n",
       "      <td>2021-01-02</td>\n",
       "      <td>2023-09-16</td>\n",
       "      <td>True</td>\n",
       "    </tr>\n",
       "  </tbody>\n",
       "</table>\n",
       "</div>"
      ],
      "text/plain": [
       "        brand    column      start        end  intruisive_na\n",
       "1404  Dysport  comments 2021-01-02 2023-09-16           True"
      ]
     },
     "execution_count": 10,
     "metadata": {},
     "output_type": "execute_result"
    }
   ],
   "source": [
    "na_intrusive_df = na_intervals_df[na_intervals_df[\"intruisive_na\"]]\n",
    "na_intrusive_df.head()"
   ]
  },
  {
   "cell_type": "markdown",
   "metadata": {},
   "source": [
    "#### We only have one brand with intrusive na so we drop it for simplicity and lack of time"
   ]
  },
  {
   "cell_type": "code",
   "execution_count": 11,
   "metadata": {},
   "outputs": [],
   "source": [
    "brands = brands[brands[\"brand\"] != \"Dysport\"]"
   ]
  },
  {
   "cell_type": "markdown",
   "metadata": {},
   "source": [
    "#### We now check for brands with missing values in the latest periods"
   ]
  },
  {
   "cell_type": "code",
   "execution_count": 12,
   "metadata": {},
   "outputs": [],
   "source": [
    "year_lag = 4\n",
    "max_date = brands[\"period_end_date\"].max()\n",
    "na_brands = na_intervals_df[na_intervals_df[\"end\"] > max_date - pd.DateOffset(years=4)][\"brand\"].unique()"
   ]
  },
  {
   "cell_type": "code",
   "execution_count": 13,
   "metadata": {},
   "outputs": [
    {
     "data": {
      "text/plain": [
       "0.09659090909090909"
      ]
     },
     "execution_count": 13,
     "metadata": {},
     "output_type": "execute_result"
    }
   ],
   "source": [
    "len(na_brands) / len(brands[\"brand\"].unique())"
   ]
  },
  {
   "cell_type": "markdown",
   "metadata": {},
   "source": [
    "#### Since the ratio is insignificant and due to lack of time we also ignore these brands"
   ]
  },
  {
   "cell_type": "code",
   "execution_count": 14,
   "metadata": {},
   "outputs": [],
   "source": [
    "# Clean dataframe\n",
    "cleaned_brands = brands[brands[\"period_end_date\"] > max_date - pd.DateOffset(years=year_lag)]\n",
    "cleaned_brands = cleaned_brands[~cleaned_brands[\"brand\"].isin(na_brands)]\n",
    "\n",
    "# Double check for na\n",
    "def check_na(df):\n",
    "    for column in df.columns:\n",
    "        if df[column].isna().any():\n",
    "            print(f\"Found a NA in {column}\")\n",
    "\n",
    "check_na(cleaned_brands)"
   ]
  },
  {
   "cell_type": "markdown",
   "metadata": {},
   "source": [
    "# 2. Modelling"
   ]
  },
  {
   "cell_type": "markdown",
   "metadata": {},
   "source": [
    "## a. Feature Engineering"
   ]
  },
  {
   "cell_type": "code",
   "execution_count": 15,
   "metadata": {},
   "outputs": [],
   "source": [
    "import numpy as np\n",
    "\n",
    "def preprocess_data(data):\n",
    "    \"\"\"\n",
    "    Add new features\n",
    "    \"\"\"\n",
    "    data = data[[\"followers\", \"likes\",  \"videos\", \"pictures\", \"comments\", \"period_end_date\", \"brand\"]].copy()\n",
    "    data['content'] = data['videos'] + data['pictures']\n",
    "    data['engagement'] = data['likes'] + data['comments']\n",
    "    # Here we assume data can't have engagement with content = 0\n",
    "    data['content_engagement'] = np.where((data['content'] != 0) & (data['engagement'] != 0), data['engagement'] / data['content'], 0)\n",
    "    data = data.drop([\"pictures\", \"followers\", \"content\", \"engagement\", \"videos\", \"likes\", \"comments\"], axis=1)\n",
    "\n",
    "    return data\n",
    "\n",
    "preprocessed_brands = preprocess_data(cleaned_brands)\n",
    "check_na(preprocessed_brands)"
   ]
  },
  {
   "cell_type": "markdown",
   "metadata": {},
   "source": [
    "#### We plot the distributions of our target data"
   ]
  },
  {
   "cell_type": "code",
   "execution_count": 16,
   "metadata": {},
   "outputs": [
    {
     "data": {
      "image/png": "[encoded data removed]",
      "text/plain": [
       "<Figure size 640x480 with 1 Axes>"
      ]
     },
     "metadata": {},
     "output_type": "display_data"
    }
   ],
   "source": [
    "import matplotlib.pyplot as plt\n",
    "\n",
    "target_data = \"content_engagement\"\n",
    "\n",
    "# Calculate the quantiles to determine the range for the histogram\n",
    "quantiles = preprocessed_brands[target_data].quantile([0.005, 0.999])  # Adjust the quantiles as needed\n",
    "\n",
    "# Plot the data and the regression line with adjusted limits\n",
    "plt.hist(preprocessed_brands[target_data], bins=50, range=quantiles, color='skyblue', edgecolor='black')\n",
    "plt.xlabel('Value')\n",
    "plt.ylabel('Frequency')\n",
    "plt.title('Histogram of Data (99% interval)')\n",
    "plt.grid(True)\n",
    "plt.show()"
   ]
  },
  {
   "cell_type": "markdown",
   "metadata": {},
   "source": [
    "## 2. a) Machine Learning Model\n"
   ]
  },
  {
   "cell_type": "markdown",
   "metadata": {},
   "source": [
    "#### Data preparation"
   ]
  },
  {
   "cell_type": "code",
   "execution_count": 17,
   "metadata": {},
   "outputs": [],
   "source": [
    "model_data = preprocessed_brands.copy()"
   ]
  },
  {
   "cell_type": "code",
   "execution_count": 18,
   "metadata": {},
   "outputs": [],
   "source": [
    "from sklearn.preprocessing import LabelEncoder\n",
    "\n",
    "labelers = []\n",
    "categorical_data = [\"brand\"]\n",
    "\n",
    "for data in categorical_data:\n",
    "    labeler = LabelEncoder()\n",
    "    model_data.loc[:, data] = labeler.fit_transform(model_data[data])\n",
    "    labelers.append(labeler)\n",
    "\n",
    "check_na(model_data)"
   ]
  },
  {
   "cell_type": "code",
   "execution_count": 85,
   "metadata": {},
   "outputs": [],
   "source": [
    "previous_target_data = \"previous_\" + target_data\n",
    "model_data.loc[:, previous_target_data] = model_data[target_data].shift(1)\n",
    "# Dropped the first timesteps with no h0 for the LSTM\n",
    "model_data = model_data.dropna()"
   ]
  },
  {
   "cell_type": "code",
   "execution_count": 75,
   "metadata": {},
   "outputs": [
    {
     "data": {
      "text/plain": [
       "(None, None)"
      ]
     },
     "execution_count": 75,
     "metadata": {},
     "output_type": "execute_result"
    }
   ],
   "source": [
    "# Splitting data\n",
    "month_of_interests = 3\n",
    "limit = model_data['period_end_date'].max() - pd.DateOffset(months=month_of_interests)\n",
    "train_data = model_data[model_data['period_end_date'] < limit]\n",
    "test_data = model_data[model_data['period_end_date'] >= limit]\n",
    "\n",
    "check_na(train_data), check_na(test_data)"
   ]
  },
  {
   "cell_type": "markdown",
   "metadata": {},
   "source": [
    "#### Model LSTM"
   ]
  },
  {
   "cell_type": "code",
   "execution_count": 76,
   "metadata": {},
   "outputs": [],
   "source": [
    "import numpy as np\n",
    "\n",
    "# Assuming df is your DataFrame containing the data\n",
    "# Select relevant columns\n",
    "features = [\"brand\", previous_target_data]\n",
    "target = target_data\n",
    "\n",
    "\n",
    "# Group the data by (brand, compset, compset_group)\n",
    "grouped_data = train_data.groupby('brand')\n",
    "\n",
    "sequences = []\n",
    "labels = []\n",
    "\n",
    "for group, group_df in grouped_data:\n",
    "    \n",
    "    x = []\n",
    "    y = []\n",
    "    for row in group_df.iterrows():\n",
    "        x.append(([row[1][\"brand\"], row[1][previous_target_data]]))\n",
    "        y.append(row[1][target_data])\n",
    "\n",
    "    sequences.append(x)\n",
    "    labels.append(y)"
   ]
  },
  {
   "cell_type": "code",
   "execution_count": 77,
   "metadata": {},
   "outputs": [],
   "source": [
    "filtered_sequences = [s for s in sequences if len(s) == 195]\n",
    "filtered_labels = [s for s in labels if len(s) == 195]"
   ]
  },
  {
   "cell_type": "code",
   "execution_count": 78,
   "metadata": {},
   "outputs": [],
   "source": [
    "import numpy as np\n",
    "\n",
    "# Convert lists to numpy arrays\n",
    "sequences = np.array(filtered_sequences, dtype=np.float32)\n",
    "targets = np.array(filtered_labels, dtype=np.float32)"
   ]
  },
  {
   "cell_type": "code",
   "execution_count": 79,
   "metadata": {},
   "outputs": [
    {
     "data": {
      "text/plain": [
       "((636, 195, 2), (636, 195))"
      ]
     },
     "execution_count": 79,
     "metadata": {},
     "output_type": "execute_result"
    }
   ],
   "source": [
    "sequences.shape, targets.shape"
   ]
  },
  {
   "cell_type": "code",
   "execution_count": 80,
   "metadata": {},
   "outputs": [],
   "source": [
    "from sklearn.preprocessing import StandardScaler\n",
    "\n",
    "# Extract the second feature from the sequences\n",
    "second_feature = sequences[:, :, 1]\n",
    "\n",
    "# Create StandardScaler object for the second feature\n",
    "scaler_second_feature = StandardScaler()\n",
    "\n",
    "# Fit and transform the second feature\n",
    "second_feature_normalized = scaler_second_feature.fit_transform(second_feature)\n",
    "\n",
    "# Replace the second feature in the original sequences with the normalized values\n",
    "sequences_normalized = sequences.copy()\n",
    "sequences_normalized[:, :, 1] = second_feature_normalized\n"
   ]
  },
  {
   "cell_type": "code",
   "execution_count": 95,
   "metadata": {},
   "outputs": [
    {
     "name": "stdout",
     "output_type": "stream",
     "text": [
      "Epoch 1/20\n",
      "\u001b[1m10/10\u001b[0m \u001b[32m━━━━━━━━━━━━━━━━━━━━\u001b[0m\u001b[37m\u001b[0m \u001b[1m3s\u001b[0m 87ms/step - loss: 1.8567\n",
      "Epoch 2/20\n",
      "\u001b[1m10/10\u001b[0m \u001b[32m━━━━━━━━━━━━━━━━━━━━\u001b[0m\u001b[37m\u001b[0m \u001b[1m1s\u001b[0m 83ms/step - loss: 0.8324\n",
      "Epoch 3/20\n",
      "\u001b[1m10/10\u001b[0m \u001b[32m━━━━━━━━━━━━━━━━━━━━\u001b[0m\u001b[37m\u001b[0m \u001b[1m1s\u001b[0m 85ms/step - loss: 0.0213\n",
      "Epoch 4/20\n",
      "\u001b[1m10/10\u001b[0m \u001b[32m━━━━━━━━━━━━━━━━━━━━\u001b[0m\u001b[37m\u001b[0m \u001b[1m1s\u001b[0m 102ms/step - loss: 0.0203\n",
      "Epoch 5/20\n",
      "\u001b[1m10/10\u001b[0m \u001b[32m━━━━━━━━━━━━━━━━━━━━\u001b[0m\u001b[37m\u001b[0m \u001b[1m1s\u001b[0m 81ms/step - loss: 0.0135\n",
      "Epoch 6/20\n",
      "\u001b[1m10/10\u001b[0m \u001b[32m━━━━━━━━━━━━━━━━━━━━\u001b[0m\u001b[37m\u001b[0m \u001b[1m1s\u001b[0m 95ms/step - loss: 0.0100\n",
      "Epoch 7/20\n",
      "\u001b[1m10/10\u001b[0m \u001b[32m━━━━━━━━━━━━━━━━━━━━\u001b[0m\u001b[37m\u001b[0m \u001b[1m1s\u001b[0m 101ms/step - loss: 0.0084\n",
      "Epoch 8/20\n",
      "\u001b[1m10/10\u001b[0m \u001b[32m━━━━━━━━━━━━━━━━━━━━\u001b[0m\u001b[37m\u001b[0m \u001b[1m1s\u001b[0m 95ms/step - loss: 0.0073\n",
      "Epoch 9/20\n",
      "\u001b[1m10/10\u001b[0m \u001b[32m━━━━━━━━━━━━━━━━━━━━\u001b[0m\u001b[37m\u001b[0m \u001b[1m1s\u001b[0m 93ms/step - loss: 0.0061\n",
      "Epoch 10/20\n",
      "\u001b[1m10/10\u001b[0m \u001b[32m━━━━━━━━━━━━━━━━━━━━\u001b[0m\u001b[37m\u001b[0m \u001b[1m1s\u001b[0m 96ms/step - loss: 0.0052\n",
      "Epoch 11/20\n",
      "\u001b[1m10/10\u001b[0m \u001b[32m━━━━━━━━━━━━━━━━━━━━\u001b[0m\u001b[37m\u001b[0m \u001b[1m1s\u001b[0m 85ms/step - loss: 0.0045\n",
      "Epoch 12/20\n",
      "\u001b[1m10/10\u001b[0m \u001b[32m━━━━━━━━━━━━━━━━━━━━\u001b[0m\u001b[37m\u001b[0m \u001b[1m1s\u001b[0m 99ms/step - loss: 0.0035\n",
      "Epoch 13/20\n",
      "\u001b[1m10/10\u001b[0m \u001b[32m━━━━━━━━━━━━━━━━━━━━\u001b[0m\u001b[37m\u001b[0m \u001b[1m1s\u001b[0m 85ms/step - loss: 0.0022\n",
      "Epoch 14/20\n",
      "\u001b[1m10/10\u001b[0m \u001b[32m━━━━━━━━━━━━━━━━━━━━\u001b[0m\u001b[37m\u001b[0m \u001b[1m1s\u001b[0m 100ms/step - loss: 0.0020\n",
      "Epoch 15/20\n",
      "\u001b[1m10/10\u001b[0m \u001b[32m━━━━━━━━━━━━━━━━━━━━\u001b[0m\u001b[37m\u001b[0m \u001b[1m1s\u001b[0m 94ms/step - loss: 0.0015\n",
      "Epoch 16/20\n",
      "\u001b[1m10/10\u001b[0m \u001b[32m━━━━━━━━━━━━━━━━━━━━\u001b[0m\u001b[37m\u001b[0m \u001b[1m1s\u001b[0m 93ms/step - loss: 0.0013\n",
      "Epoch 17/20\n",
      "\u001b[1m10/10\u001b[0m \u001b[32m━━━━━━━━━━━━━━━━━━━━\u001b[0m\u001b[37m\u001b[0m \u001b[1m1s\u001b[0m 94ms/step - loss: 8.9519e-04\n",
      "Epoch 18/20\n",
      "\u001b[1m10/10\u001b[0m \u001b[32m━━━━━━━━━━━━━━━━━━━━\u001b[0m\u001b[37m\u001b[0m \u001b[1m1s\u001b[0m 93ms/step - loss: 0.0011\n",
      "Epoch 19/20\n",
      "\u001b[1m10/10\u001b[0m \u001b[32m━━━━━━━━━━━━━━━━━━━━\u001b[0m\u001b[37m\u001b[0m \u001b[1m1s\u001b[0m 92ms/step - loss: 9.3060e-04\n",
      "Epoch 20/20\n",
      "\u001b[1m10/10\u001b[0m \u001b[32m━━━━━━━━━━━━━━━━━━━━\u001b[0m\u001b[37m\u001b[0m \u001b[1m1s\u001b[0m 87ms/step - loss: 8.6500e-04\n"
     ]
    },
    {
     "data": {
      "text/plain": [
       "<keras.src.callbacks.history.History at 0x1c263782c10>"
      ]
     },
     "execution_count": 95,
     "metadata": {},
     "output_type": "execute_result"
    }
   ],
   "source": [
    "from tensorflow.keras.models import Sequential\n",
    "from tensorflow.keras.layers import LSTM, Dense\n",
    "\n",
    "model = Sequential()\n",
    "model.add(LSTM(50, activation='tanh', input_shape=(195, 2)))  # Input shape (time_steps, features)\n",
    "model.add(Dense(1))\n",
    "model.compile(optimizer='adam', loss='mse')\n",
    "\n",
    "# X_train would be your features shaped into [samples, time_steps, features]\n",
    "# y_train would be your labels (content_engagement)\n",
    "model.fit(sequences_normalized, targets_normalized, epochs=20, batch_size=64)\n"
   ]
  },
  {
   "cell_type": "code",
   "execution_count": null,
   "metadata": {},
   "outputs": [],
   "source": [
    "import numpy as np\n",
    "\n",
    " \n",
    "# Initialize an empty array to store the predicted sequences\n",
    "predicted_sequences = []\n",
    "\n",
    "# Get the last label of each sequence\n",
    "last_labels = targets_normalized[:, -1]\n",
    "\n",
    "# Reshape the last labels to match the model input shape (samples, time_steps, features)\n",
    "last_labels = last_labels.reshape(-1, 1, 1)\n",
    "\n",
    "# Generate predictions for the next 30 time steps\n",
    "for _ in range(30):\n",
    "    # Predict the next time step based on the last label of each sequence\n",
    "    next_step_predictions = model.predict(last_labels)\n",
    "    \n",
    "    # Append the predicted value to the sequence\n",
    "    predicted_sequences.append(next_step_predictions)\n",
    "    \n",
    "    # Update the last label for the next iteration\n",
    "    last_labels = np.concatenate([last_labels[:, 1:], next_step_predictions.reshape(-1, 1, 1)], axis=1)\n",
    "\n",
    "# Convert the list of predicted sequences to a numpy array\n",
    "predicted_sequences = np.array(predicted_sequences)\n",
    "\n",
    "# Reshape the predicted sequences to match the original data shape\n",
    "predicted_sequences = predicted_sequences.reshape(predicted_sequences.shape[0], predicted_sequences.shape[1])\n",
    "\n",
    "# Inverse transform the predicted sequences if needed (e.g., if you scaled the target variable during normalization)\n",
    "predicted_sequences = scaler_targets.inverse_transform(predicted_sequences)\n",
    "\n",
    "# Now predicted_sequences contains the predicted values for the next 30 time steps for each sequence\n"
   ]
  }
 ],
 "metadata": {
  "kernelspec": {
   "display_name": "pai-demos",
   "language": "python",
   "name": "python3"
  },
  "language_info": {
   "codemirror_mode": {
    "name": "ipython",
    "version": 3
   },
   "file_extension": ".py",
   "mimetype": "text/x-python",
   "name": "python",
   "nbconvert_exporter": "python",
   "pygments_lexer": "ipython3",
   "version": "3.9.18"
  }
 },
 "nbformat": 4,
 "nbformat_minor": 2
}
