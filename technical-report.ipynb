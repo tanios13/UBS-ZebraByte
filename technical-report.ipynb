{
 "cells": [
  {
   "cell_type": "markdown",
   "metadata": {},
   "source": [
    "**Note: A diagram should be displayed here, but for some reason it is not showing on github.**\n",
    "**You might need to clone the repo and vizualize it locally.**"
   ]
  },
  {
   "cell_type": "code",
   "execution_count": 1,
   "metadata": {},
   "outputs": [],
   "source": [
    "import pandas as pd\n",
    "from utils import *"
   ]
  },
  {
   "cell_type": "markdown",
   "metadata": {},
   "source": [
    "# Data Understanding"
   ]
  },
  {
   "cell_type": "markdown",
   "metadata": {},
   "source": [
    "## 1. Exploratory Data Analysis"
   ]
  },
  {
   "cell_type": "markdown",
   "metadata": {},
   "source": [
    "Through our exploration of the data using for example the following diagram:"
   ]
  },
  {
   "cell_type": "code",
   "execution_count": 6,
   "metadata": {},
   "outputs": [
    {
     "data": {
      "application/vnd.plotly.v1+json": {
       "config": {
        "plotlyServerURL": "https://plot.ly"
       },
       "data": [
        {
         "dimensions": [
          {
           "label": "compset",
           "values": [
            "Petcare",
            "Petcare",
            "Petcare",
            "Petcare",
            "Petcare",
            "Petcare",
            "Petcare",
            "Petcare",
            "Petcare",
            "Petcare",
            "Food Products",
            "Food Products",
            "Food Products",
            "Food Products",
            "Food Products",
            "Food Products",
            "Food Products",
            "Food Products",
            "Food Products",
            "Food Products",
            "Plant-Based Meat",
            "Plant-Based Meat",
            "Plant-Based Meat",
            "Plant-Based Meat",
            "Plant-Based Meat",
            "Plant-Based Meat",
            "Plant-Based Meat",
            "Plant-Based Meat",
            "Plant-Based Meat",
            "Plant-Based Meat",
            "Pasta Sauce",
            "Pasta Sauce",
            "Pasta Sauce",
            "Pasta Sauce",
            "Pasta Sauce",
            "Pasta Sauce",
            "Pasta Sauce",
            "Pasta Sauce",
            "Pasta Sauce",
            "Pasta Sauce"
           ]
          },
          {
           "label": "compset_group",
           "values": [
            "Petcare",
            "Petcare",
            "Petcare",
            "Petcare",
            "Petcare",
            "Food Products",
            "Food Products",
            "Food Products",
            "Food Products",
            "Food Products",
            "Petcare",
            "Petcare",
            "Petcare",
            "Petcare",
            "Petcare",
            "Food Products",
            "Food Products",
            "Food Products",
            "Food Products",
            "Food Products",
            "Petcare",
            "Petcare",
            "Petcare",
            "Petcare",
            "Petcare",
            "Food Products",
            "Food Products",
            "Food Products",
            "Food Products",
            "Food Products",
            "Petcare",
            "Petcare",
            "Petcare",
            "Petcare",
            "Petcare",
            "Food Products",
            "Food Products",
            "Food Products",
            "Food Products",
            "Food Products"
           ]
          },
          {
           "label": "brand",
           "values": [
            "Buitoni",
            "Purina",
            "Garden Gourmet",
            "Lilys Kitchen",
            "Sweet Earth",
            "Buitoni",
            "Purina",
            "Garden Gourmet",
            "Lilys Kitchen",
            "Sweet Earth",
            "Buitoni",
            "Purina",
            "Garden Gourmet",
            "Lilys Kitchen",
            "Sweet Earth",
            "Buitoni",
            "Purina",
            "Garden Gourmet",
            "Lilys Kitchen",
            "Sweet Earth",
            "Buitoni",
            "Purina",
            "Garden Gourmet",
            "Lilys Kitchen",
            "Sweet Earth",
            "Buitoni",
            "Purina",
            "Garden Gourmet",
            "Lilys Kitchen",
            "Sweet Earth",
            "Buitoni",
            "Purina",
            "Garden Gourmet",
            "Lilys Kitchen",
            "Sweet Earth",
            "Buitoni",
            "Purina",
            "Garden Gourmet",
            "Lilys Kitchen",
            "Sweet Earth"
           ]
          },
          {
           "label": "company",
           "values": [
            "Nestle",
            "Nestle",
            "Nestle",
            "Nestle",
            "Nestle",
            "Nestle",
            "Nestle",
            "Nestle",
            "Nestle",
            "Nestle",
            "Nestle",
            "Nestle",
            "Nestle",
            "Nestle",
            "Nestle",
            "Nestle",
            "Nestle",
            "Nestle",
            "Nestle",
            "Nestle",
            "Nestle",
            "Nestle",
            "Nestle",
            "Nestle",
            "Nestle",
            "Nestle",
            "Nestle",
            "Nestle",
            "Nestle",
            "Nestle",
            "Nestle",
            "Nestle",
            "Nestle",
            "Nestle",
            "Nestle",
            "Nestle",
            "Nestle",
            "Nestle",
            "Nestle",
            "Nestle"
           ]
          },
          {
           "label": "parent_company",
           "values": [
            "Nestle",
            "Nestle",
            "Nestle",
            "Nestle",
            "Nestle",
            "Nestle",
            "Nestle",
            "Nestle",
            "Nestle",
            "Nestle",
            "Nestle",
            "Nestle",
            "Nestle",
            "Nestle",
            "Nestle",
            "Nestle",
            "Nestle",
            "Nestle",
            "Nestle",
            "Nestle",
            "Nestle",
            "Nestle",
            "Nestle",
            "Nestle",
            "Nestle",
            "Nestle",
            "Nestle",
            "Nestle",
            "Nestle",
            "Nestle",
            "Nestle",
            "Nestle",
            "Nestle",
            "Nestle",
            "Nestle",
            "Nestle",
            "Nestle",
            "Nestle",
            "Nestle",
            "Nestle"
           ]
          }
         ],
         "domain": {
          "x": [
           0,
           1
          ],
          "y": [
           0,
           1
          ]
         },
         "line": {
          "color": [
           471,
           472,
           473,
           474,
           475,
           471,
           472,
           473,
           474,
           475,
           471,
           472,
           473,
           474,
           475,
           471,
           472,
           473,
           474,
           475,
           471,
           472,
           473,
           474,
           475,
           471,
           472,
           473,
           474,
           475,
           471,
           472,
           473,
           474,
           475,
           471,
           472,
           473,
           474,
           475
          ],
          "coloraxis": "coloraxis"
         },
         "name": "",
         "type": "parcats"
        }
       ],
       "layout": {
        "coloraxis": {
         "colorbar": {
          "title": {
           "text": "color"
          }
         },
         "colorscale": [
          [
           0,
           "#000004"
          ],
          [
           0.1111111111111111,
           "#1b0c41"
          ],
          [
           0.2222222222222222,
           "#4a0c6b"
          ],
          [
           0.3333333333333333,
           "#781c6d"
          ],
          [
           0.4444444444444444,
           "#a52c60"
          ],
          [
           0.5555555555555556,
           "#cf4446"
          ],
          [
           0.6666666666666666,
           "#ed6925"
          ],
          [
           0.7777777777777778,
           "#fb9b06"
          ],
          [
           0.8888888888888888,
           "#f7d13d"
          ],
          [
           1,
           "#fcffa4"
          ]
         ]
        },
        "height": 500,
        "legend": {
         "tracegroupgap": 0
        },
        "margin": {
         "t": 60
        },
        "template": {
         "data": {
          "bar": [
           {
            "error_x": {
             "color": "#2a3f5f"
            },
            "error_y": {
             "color": "#2a3f5f"
            },
            "marker": {
             "line": {
              "color": "#E5ECF6",
              "width": 0.5
             },
             "pattern": {
              "fillmode": "overlay",
              "size": 10,
              "solidity": 0.2
             }
            },
            "type": "bar"
           }
          ],
          "barpolar": [
           {
            "marker": {
             "line": {
              "color": "#E5ECF6",
              "width": 0.5
             },
             "pattern": {
              "fillmode": "overlay",
              "size": 10,
              "solidity": 0.2
             }
            },
            "type": "barpolar"
           }
          ],
          "carpet": [
           {
            "aaxis": {
             "endlinecolor": "#2a3f5f",
             "gridcolor": "white",
             "linecolor": "white",
             "minorgridcolor": "white",
             "startlinecolor": "#2a3f5f"
            },
            "baxis": {
             "endlinecolor": "#2a3f5f",
             "gridcolor": "white",
             "linecolor": "white",
             "minorgridcolor": "white",
             "startlinecolor": "#2a3f5f"
            },
            "type": "carpet"
           }
          ],
          "choropleth": [
           {
            "colorbar": {
             "outlinewidth": 0,
             "ticks": ""
            },
            "type": "choropleth"
           }
          ],
          "contour": [
           {
            "colorbar": {
             "outlinewidth": 0,
             "ticks": ""
            },
            "colorscale": [
             [
              0,
              "#0d0887"
             ],
             [
              0.1111111111111111,
              "#46039f"
             ],
             [
              0.2222222222222222,
              "#7201a8"
             ],
             [
              0.3333333333333333,
              "#9c179e"
             ],
             [
              0.4444444444444444,
              "#bd3786"
             ],
             [
              0.5555555555555556,
              "#d8576b"
             ],
             [
              0.6666666666666666,
              "#ed7953"
             ],
             [
              0.7777777777777778,
              "#fb9f3a"
             ],
             [
              0.8888888888888888,
              "#fdca26"
             ],
             [
              1,
              "#f0f921"
             ]
            ],
            "type": "contour"
           }
          ],
          "contourcarpet": [
           {
            "colorbar": {
             "outlinewidth": 0,
             "ticks": ""
            },
            "type": "contourcarpet"
           }
          ],
          "heatmap": [
           {
            "colorbar": {
             "outlinewidth": 0,
             "ticks": ""
            },
            "colorscale": [
             [
              0,
              "#0d0887"
             ],
             [
              0.1111111111111111,
              "#46039f"
             ],
             [
              0.2222222222222222,
              "#7201a8"
             ],
             [
              0.3333333333333333,
              "#9c179e"
             ],
             [
              0.4444444444444444,
              "#bd3786"
             ],
             [
              0.5555555555555556,
              "#d8576b"
             ],
             [
              0.6666666666666666,
              "#ed7953"
             ],
             [
              0.7777777777777778,
              "#fb9f3a"
             ],
             [
              0.8888888888888888,
              "#fdca26"
             ],
             [
              1,
              "#f0f921"
             ]
            ],
            "type": "heatmap"
           }
          ],
          "heatmapgl": [
           {
            "colorbar": {
             "outlinewidth": 0,
             "ticks": ""
            },
            "colorscale": [
             [
              0,
              "#0d0887"
             ],
             [
              0.1111111111111111,
              "#46039f"
             ],
             [
              0.2222222222222222,
              "#7201a8"
             ],
             [
              0.3333333333333333,
              "#9c179e"
             ],
             [
              0.4444444444444444,
              "#bd3786"
             ],
             [
              0.5555555555555556,
              "#d8576b"
             ],
             [
              0.6666666666666666,
              "#ed7953"
             ],
             [
              0.7777777777777778,
              "#fb9f3a"
             ],
             [
              0.8888888888888888,
              "#fdca26"
             ],
             [
              1,
              "#f0f921"
             ]
            ],
            "type": "heatmapgl"
           }
          ],
          "histogram": [
           {
            "marker": {
             "pattern": {
              "fillmode": "overlay",
              "size": 10,
              "solidity": 0.2
             }
            },
            "type": "histogram"
           }
          ],
          "histogram2d": [
           {
            "colorbar": {
             "outlinewidth": 0,
             "ticks": ""
            },
            "colorscale": [
             [
              0,
              "#0d0887"
             ],
             [
              0.1111111111111111,
              "#46039f"
             ],
             [
              0.2222222222222222,
              "#7201a8"
             ],
             [
              0.3333333333333333,
              "#9c179e"
             ],
             [
              0.4444444444444444,
              "#bd3786"
             ],
             [
              0.5555555555555556,
              "#d8576b"
             ],
             [
              0.6666666666666666,
              "#ed7953"
             ],
             [
              0.7777777777777778,
              "#fb9f3a"
             ],
             [
              0.8888888888888888,
              "#fdca26"
             ],
             [
              1,
              "#f0f921"
             ]
            ],
            "type": "histogram2d"
           }
          ],
          "histogram2dcontour": [
           {
            "colorbar": {
             "outlinewidth": 0,
             "ticks": ""
            },
            "colorscale": [
             [
              0,
              "#0d0887"
             ],
             [
              0.1111111111111111,
              "#46039f"
             ],
             [
              0.2222222222222222,
              "#7201a8"
             ],
             [
              0.3333333333333333,
              "#9c179e"
             ],
             [
              0.4444444444444444,
              "#bd3786"
             ],
             [
              0.5555555555555556,
              "#d8576b"
             ],
             [
              0.6666666666666666,
              "#ed7953"
             ],
             [
              0.7777777777777778,
              "#fb9f3a"
             ],
             [
              0.8888888888888888,
              "#fdca26"
             ],
             [
              1,
              "#f0f921"
             ]
            ],
            "type": "histogram2dcontour"
           }
          ],
          "mesh3d": [
           {
            "colorbar": {
             "outlinewidth": 0,
             "ticks": ""
            },
            "type": "mesh3d"
           }
          ],
          "parcoords": [
           {
            "line": {
             "colorbar": {
              "outlinewidth": 0,
              "ticks": ""
             }
            },
            "type": "parcoords"
           }
          ],
          "pie": [
           {
            "automargin": true,
            "type": "pie"
           }
          ],
          "scatter": [
           {
            "fillpattern": {
             "fillmode": "overlay",
             "size": 10,
             "solidity": 0.2
            },
            "type": "scatter"
           }
          ],
          "scatter3d": [
           {
            "line": {
             "colorbar": {
              "outlinewidth": 0,
              "ticks": ""
             }
            },
            "marker": {
             "colorbar": {
              "outlinewidth": 0,
              "ticks": ""
             }
            },
            "type": "scatter3d"
           }
          ],
          "scattercarpet": [
           {
            "marker": {
             "colorbar": {
              "outlinewidth": 0,
              "ticks": ""
             }
            },
            "type": "scattercarpet"
           }
          ],
          "scattergeo": [
           {
            "marker": {
             "colorbar": {
              "outlinewidth": 0,
              "ticks": ""
             }
            },
            "type": "scattergeo"
           }
          ],
          "scattergl": [
           {
            "marker": {
             "colorbar": {
              "outlinewidth": 0,
              "ticks": ""
             }
            },
            "type": "scattergl"
           }
          ],
          "scattermapbox": [
           {
            "marker": {
             "colorbar": {
              "outlinewidth": 0,
              "ticks": ""
             }
            },
            "type": "scattermapbox"
           }
          ],
          "scatterpolar": [
           {
            "marker": {
             "colorbar": {
              "outlinewidth": 0,
              "ticks": ""
             }
            },
            "type": "scatterpolar"
           }
          ],
          "scatterpolargl": [
           {
            "marker": {
             "colorbar": {
              "outlinewidth": 0,
              "ticks": ""
             }
            },
            "type": "scatterpolargl"
           }
          ],
          "scatterternary": [
           {
            "marker": {
             "colorbar": {
              "outlinewidth": 0,
              "ticks": ""
             }
            },
            "type": "scatterternary"
           }
          ],
          "surface": [
           {
            "colorbar": {
             "outlinewidth": 0,
             "ticks": ""
            },
            "colorscale": [
             [
              0,
              "#0d0887"
             ],
             [
              0.1111111111111111,
              "#46039f"
             ],
             [
              0.2222222222222222,
              "#7201a8"
             ],
             [
              0.3333333333333333,
              "#9c179e"
             ],
             [
              0.4444444444444444,
              "#bd3786"
             ],
             [
              0.5555555555555556,
              "#d8576b"
             ],
             [
              0.6666666666666666,
              "#ed7953"
             ],
             [
              0.7777777777777778,
              "#fb9f3a"
             ],
             [
              0.8888888888888888,
              "#fdca26"
             ],
             [
              1,
              "#f0f921"
             ]
            ],
            "type": "surface"
           }
          ],
          "table": [
           {
            "cells": {
             "fill": {
              "color": "#EBF0F8"
             },
             "line": {
              "color": "white"
             }
            },
            "header": {
             "fill": {
              "color": "#C8D4E3"
             },
             "line": {
              "color": "white"
             }
            },
            "type": "table"
           }
          ]
         },
         "layout": {
          "annotationdefaults": {
           "arrowcolor": "#2a3f5f",
           "arrowhead": 0,
           "arrowwidth": 1
          },
          "autotypenumbers": "strict",
          "coloraxis": {
           "colorbar": {
            "outlinewidth": 0,
            "ticks": ""
           }
          },
          "colorscale": {
           "diverging": [
            [
             0,
             "#8e0152"
            ],
            [
             0.1,
             "#c51b7d"
            ],
            [
             0.2,
             "#de77ae"
            ],
            [
             0.3,
             "#f1b6da"
            ],
            [
             0.4,
             "#fde0ef"
            ],
            [
             0.5,
             "#f7f7f7"
            ],
            [
             0.6,
             "#e6f5d0"
            ],
            [
             0.7,
             "#b8e186"
            ],
            [
             0.8,
             "#7fbc41"
            ],
            [
             0.9,
             "#4d9221"
            ],
            [
             1,
             "#276419"
            ]
           ],
           "sequential": [
            [
             0,
             "#0d0887"
            ],
            [
             0.1111111111111111,
             "#46039f"
            ],
            [
             0.2222222222222222,
             "#7201a8"
            ],
            [
             0.3333333333333333,
             "#9c179e"
            ],
            [
             0.4444444444444444,
             "#bd3786"
            ],
            [
             0.5555555555555556,
             "#d8576b"
            ],
            [
             0.6666666666666666,
             "#ed7953"
            ],
            [
             0.7777777777777778,
             "#fb9f3a"
            ],
            [
             0.8888888888888888,
             "#fdca26"
            ],
            [
             1,
             "#f0f921"
            ]
           ],
           "sequentialminus": [
            [
             0,
             "#0d0887"
            ],
            [
             0.1111111111111111,
             "#46039f"
            ],
            [
             0.2222222222222222,
             "#7201a8"
            ],
            [
             0.3333333333333333,
             "#9c179e"
            ],
            [
             0.4444444444444444,
             "#bd3786"
            ],
            [
             0.5555555555555556,
             "#d8576b"
            ],
            [
             0.6666666666666666,
             "#ed7953"
            ],
            [
             0.7777777777777778,
             "#fb9f3a"
            ],
            [
             0.8888888888888888,
             "#fdca26"
            ],
            [
             1,
             "#f0f921"
            ]
           ]
          },
          "colorway": [
           "#636efa",
           "#EF553B",
           "#00cc96",
           "#ab63fa",
           "#FFA15A",
           "#19d3f3",
           "#FF6692",
           "#B6E880",
           "#FF97FF",
           "#FECB52"
          ],
          "font": {
           "color": "#2a3f5f"
          },
          "geo": {
           "bgcolor": "white",
           "lakecolor": "white",
           "landcolor": "#E5ECF6",
           "showlakes": true,
           "showland": true,
           "subunitcolor": "white"
          },
          "hoverlabel": {
           "align": "left"
          },
          "hovermode": "closest",
          "mapbox": {
           "style": "light"
          },
          "paper_bgcolor": "white",
          "plot_bgcolor": "#E5ECF6",
          "polar": {
           "angularaxis": {
            "gridcolor": "white",
            "linecolor": "white",
            "ticks": ""
           },
           "bgcolor": "#E5ECF6",
           "radialaxis": {
            "gridcolor": "white",
            "linecolor": "white",
            "ticks": ""
           }
          },
          "scene": {
           "xaxis": {
            "backgroundcolor": "#E5ECF6",
            "gridcolor": "white",
            "gridwidth": 2,
            "linecolor": "white",
            "showbackground": true,
            "ticks": "",
            "zerolinecolor": "white"
           },
           "yaxis": {
            "backgroundcolor": "#E5ECF6",
            "gridcolor": "white",
            "gridwidth": 2,
            "linecolor": "white",
            "showbackground": true,
            "ticks": "",
            "zerolinecolor": "white"
           },
           "zaxis": {
            "backgroundcolor": "#E5ECF6",
            "gridcolor": "white",
            "gridwidth": 2,
            "linecolor": "white",
            "showbackground": true,
            "ticks": "",
            "zerolinecolor": "white"
           }
          },
          "shapedefaults": {
           "line": {
            "color": "#2a3f5f"
           }
          },
          "ternary": {
           "aaxis": {
            "gridcolor": "white",
            "linecolor": "white",
            "ticks": ""
           },
           "baxis": {
            "gridcolor": "white",
            "linecolor": "white",
            "ticks": ""
           },
           "bgcolor": "#E5ECF6",
           "caxis": {
            "gridcolor": "white",
            "linecolor": "white",
            "ticks": ""
           }
          },
          "title": {
           "x": 0.05
          },
          "xaxis": {
           "automargin": true,
           "gridcolor": "white",
           "linecolor": "white",
           "ticks": "",
           "title": {
            "standoff": 15
           },
           "zerolinecolor": "white",
           "zerolinewidth": 2
          },
          "yaxis": {
           "automargin": true,
           "gridcolor": "white",
           "linecolor": "white",
           "ticks": "",
           "title": {
            "standoff": 15
           },
           "zerolinecolor": "white",
           "zerolinewidth": 2
          }
         }
        },
        "title": {
         "text": "Parallel Categories Diagram for Selected Brands"
        },
        "width": 800
       }
      }
     },
     "metadata": {},
     "output_type": "display_data"
    }
   ],
   "source": [
    "df = load_dataset()\n",
    "_, _, aggregated_df_by_parent_company = groupby_hierarchy(df)\n",
    "plot_brands_compset(aggregated_df_by_parent_company, 'parent_company', ['Nestle'], color='brand')"
   ]
  },
  {
   "cell_type": "markdown",
   "metadata": {},
   "source": [
    "We were able to find out the underlying hidden structure of the dataset:\n",
    "\n",
    "<img src=\"./doc/structure_data.png\" width=\"800\" height=\"500\">\n",
    "\n",
    "After understanding the data's structure we were able to delve more into the dataset."
   ]
  },
  {
   "cell_type": "markdown",
   "metadata": {},
   "source": [
    "The quantitative data (likes, followers...) had the same numerical values for each of the different \"compset\" and \"compset_group\" for a given brand:"
   ]
  },
  {
   "cell_type": "code",
   "execution_count": 2,
   "metadata": {},
   "outputs": [
    {
     "data": {
      "text/plain": [
       "False"
      ]
     },
     "execution_count": 2,
     "metadata": {},
     "output_type": "execute_result"
    }
   ],
   "source": [
    "df = pd.read_csv(\"./data/skylab_instagram_datathon_dataset.csv\", delimiter=\";\")\n",
    "check_likes_same(df, 'Versace', '2023-03-25', 'Luxury & Premium & Mainstream')"
   ]
  },
  {
   "cell_type": "markdown",
   "metadata": {},
   "source": [
    "Looking more into the data, we found that around 1/7 of the rows had missing values. We started by checking if these NAs were in time intervals or just randomly spreaded in the data (which you can find in the lstm.ipynb).\n",
    "\n",
    "We noticed that these missing values were in fact 99% of time intervals at the beginning of the time series recording of a brand except for only one brand which we decided to dropped for simplicity and relevance.\n",
    "\n",
    "If we had more time, we would have extrapolated the data using some machine learning model or moving average estimation.\n",
    "We however decided to choose to analyse the past 4 years which only yielded a very small percentage of missing values. "
   ]
  },
  {
   "cell_type": "markdown",
   "metadata": {},
   "source": [
    "Furthermore, we assumed that every brand could be invested in either through primary exchange market or \"private\" for the missing values in the dataset.\n",
    "By looking at the data and outside knowledge, we assumed that each brand own only one instagram account, which leads to having the same stats over the different categories (compset and compset_group)."
   ]
  },
  {
   "cell_type": "markdown",
   "metadata": {},
   "source": [
    "# 2. Modelling approach"
   ]
  },
  {
   "cell_type": "markdown",
   "metadata": {},
   "source": [
    "### Feature Engineering"
   ]
  },
  {
   "cell_type": "markdown",
   "metadata": {},
   "source": [
    "We started by creating some new features which would be more relevant to the popularity of the brand:"
   ]
  },
  {
   "cell_type": "code",
   "execution_count": 7,
   "metadata": {},
   "outputs": [],
   "source": [
    "# Engagement ratios\n",
    "df['content'] = df['videos'] + df['pictures']\n",
    "df['engagement'] = df['likes'] + df['comments']\n",
    "df['likes_to_followers'] = df['likes'] / df['followers']\n",
    "df['comments_to_likes'] = df['comments'] / df['likes']\n",
    "df['content_engagement'] = df['engagement'] / df['content']"
   ]
  },
  {
   "cell_type": "markdown",
   "metadata": {},
   "source": [
    "Creating new features such as engagement ratios and content engagement can provide additional insights into user behavior and content performance on a platform (presumably social media). These features can help in understanding how users interact with content relative to their follower base, the level of engagement per piece of content, and the ratio of comments to likes, which may indicate the level of interaction and interest in the content."
   ]
  },
  {
   "cell_type": "markdown",
   "metadata": {},
   "source": [
    "### Modelling"
   ]
  },
  {
   "cell_type": "markdown",
   "metadata": {},
   "source": [
    "We first started with a simple approach by comparing the average popularity of the brand over all categories (compset_group) since each company own a unique social media for the whole brand.\n",
    "\n",
    "We then wanted to remove some confounders which could impact the stats. We thus also compared the brand to the companies in the same field (compset/compset_group)."
   ]
  },
  {
   "cell_type": "markdown",
   "metadata": {},
   "source": [
    "<img src=\"./doc/outliers_detection.png\" width=\"800\" height=\"400\">"
   ]
  },
  {
   "cell_type": "markdown",
   "metadata": {},
   "source": [
    "\n",
    "We transitioned to a machine learning approach by implementing an LSTM model. The rationale behind this approach was to leverage historical data to predict future trends in popularity. \n",
    "\n",
    "By training the LSTM on data up to a certain point, excluding the most recent 3 months, we aimed to capture patterns and behaviors over time without incorporating the latest trends. This deliberate exclusion of recent data served as a metric relevant to investors or marketing strategies, allowing for a focused analysis of longer-term trends. \n",
    "\n",
    "The LSTM model was tasked with forecasting the popularity of the model for the subsequent 3 months. Subsequently, we could compare these predictions with the actual popularity trends to assess the deviations."
   ]
  },
  {
   "cell_type": "markdown",
   "metadata": {},
   "source": [
    "### Model Evaluation"
   ]
  },
  {
   "cell_type": "markdown",
   "metadata": {},
   "source": [
    "In order to evaluate our results we used the followings:\n",
    "- We compared our results with stocks/revenue prices to see if deviations actually led to deviations.\n",
    "- We also compared to google trend's api to check if these deviations were always reflected there.\n",
    "\n",
    "Moreover, for instance with H&M, we noticed an anomaly which was justified and caused by a racist post which made a scandal and led to negative deviation."
   ]
  },
  {
   "cell_type": "markdown",
   "metadata": {},
   "source": [
    "### Model Enhancement"
   ]
  },
  {
   "cell_type": "markdown",
   "metadata": {},
   "source": [
    "- Combine with stock/revenue: We started working on combining the given dataset with the revenue and stock price using yahoo's api but noticed too many stocks were actually missing and couldn't have time to use another one. This would have provided valuable insights for investing opportunities."
   ]
  },
  {
   "cell_type": "markdown",
   "metadata": {},
   "source": [
    "# 3. Results Interpretation"
   ]
  },
  {
   "cell_type": "markdown",
   "metadata": {},
   "source": [
    "When we take look at a specific brand, in this case H&M, we can get valuable business value.\n",
    "- Consulting for content creation and social media strategy: For e.g, favorise posting videos over pictures, get correlation between their social media activity's revenue...\n",
    "- Investment opportunities: If we see that a company is gaining in popularity we could find causation between the stocks and success of the company and thus find investment opportunities"
   ]
  },
  {
   "cell_type": "markdown",
   "metadata": {},
   "source": [
    "<img src=\"./doc/H&M.png\" width=\"800\" height=\"600\">"
   ]
  },
  {
   "cell_type": "code",
   "execution_count": null,
   "metadata": {},
   "outputs": [],
   "source": []
  },
  {
   "cell_type": "markdown",
   "metadata": {},
   "source": []
  }
 ],
 "metadata": {
  "language_info": {
   "name": "python"
  }
 },
 "nbformat": 4,
 "nbformat_minor": 2
}
