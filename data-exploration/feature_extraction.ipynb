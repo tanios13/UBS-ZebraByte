{
 "cells": [
  {
   "cell_type": "code",
   "execution_count": 4,
   "metadata": {},
   "outputs": [],
   "source": [
    "import numpy as np\n",
    "import pandas as pd\n",
    "import matplotlib.pyplot as plt\n",
    "import matplotlib.dates as mdates\n",
    "import data_visuals as dv"
   ]
  },
  {
   "cell_type": "code",
   "execution_count": 6,
   "metadata": {},
   "outputs": [
    {
     "data": {
      "text/html": [
       "<div>\n",
       "<style scoped>\n",
       "    .dataframe tbody tr th:only-of-type {\n",
       "        vertical-align: middle;\n",
       "    }\n",
       "\n",
       "    .dataframe tbody tr th {\n",
       "        vertical-align: top;\n",
       "    }\n",
       "\n",
       "    .dataframe thead th {\n",
       "        text-align: right;\n",
       "    }\n",
       "</style>\n",
       "<table border=\"1\" class=\"dataframe\">\n",
       "  <thead>\n",
       "    <tr style=\"text-align: right;\">\n",
       "      <th></th>\n",
       "      <th>period</th>\n",
       "      <th>period_end_date</th>\n",
       "      <th>compset_group</th>\n",
       "      <th>compset</th>\n",
       "      <th>business_entity_doing_business_as_name</th>\n",
       "      <th>legal_entity_name</th>\n",
       "      <th>domicile_country_name</th>\n",
       "      <th>ultimate_parent_legal_entity_name</th>\n",
       "      <th>primary_exchange_name</th>\n",
       "      <th>calculation_type</th>\n",
       "      <th>followers</th>\n",
       "      <th>pictures</th>\n",
       "      <th>videos</th>\n",
       "      <th>comments</th>\n",
       "      <th>likes</th>\n",
       "    </tr>\n",
       "  </thead>\n",
       "  <tbody>\n",
       "    <tr>\n",
       "      <th>0</th>\n",
       "      <td>Weekly</td>\n",
       "      <td>2019-12-07</td>\n",
       "      <td>Luxury &amp; Premium &amp; Mainstream</td>\n",
       "      <td>Soft Luxury</td>\n",
       "      <td>Versace</td>\n",
       "      <td>Capri Holdings</td>\n",
       "      <td>United States of America</td>\n",
       "      <td>Capri Holdings</td>\n",
       "      <td>New York Stock Exchange</td>\n",
       "      <td>Metric Value</td>\n",
       "      <td>22066189.0</td>\n",
       "      <td>97.0</td>\n",
       "      <td>13.0</td>\n",
       "      <td>16239.0</td>\n",
       "      <td>6112205.0</td>\n",
       "    </tr>\n",
       "    <tr>\n",
       "      <th>1</th>\n",
       "      <td>Weekly</td>\n",
       "      <td>2021-01-30</td>\n",
       "      <td>Luxury &amp; Premium &amp; Mainstream</td>\n",
       "      <td>Luxury &amp; Premium &amp; Mainstream</td>\n",
       "      <td>Versace</td>\n",
       "      <td>Capri Holdings</td>\n",
       "      <td>United States of America</td>\n",
       "      <td>Capri Holdings</td>\n",
       "      <td>New York Stock Exchange</td>\n",
       "      <td>Metric Value</td>\n",
       "      <td>24289963.0</td>\n",
       "      <td>54.0</td>\n",
       "      <td>2.0</td>\n",
       "      <td>13358.0</td>\n",
       "      <td>3189144.0</td>\n",
       "    </tr>\n",
       "    <tr>\n",
       "      <th>2</th>\n",
       "      <td>Weekly</td>\n",
       "      <td>2016-05-14</td>\n",
       "      <td>Luxury &amp; Premium &amp; Mainstream</td>\n",
       "      <td>Soft Luxury</td>\n",
       "      <td>Versace</td>\n",
       "      <td>Capri Holdings</td>\n",
       "      <td>United States of America</td>\n",
       "      <td>Capri Holdings</td>\n",
       "      <td>New York Stock Exchange</td>\n",
       "      <td>Metric Value</td>\n",
       "      <td>7137442.0</td>\n",
       "      <td>42.0</td>\n",
       "      <td>8.0</td>\n",
       "      <td>15894.0</td>\n",
       "      <td>2152955.0</td>\n",
       "    </tr>\n",
       "    <tr>\n",
       "      <th>3</th>\n",
       "      <td>Weekly</td>\n",
       "      <td>2019-04-20</td>\n",
       "      <td>Luxury &amp; Premium &amp; Mainstream</td>\n",
       "      <td>Luxury &amp; Premium &amp; Mainstream</td>\n",
       "      <td>Versace</td>\n",
       "      <td>Capri Holdings</td>\n",
       "      <td>United States of America</td>\n",
       "      <td>Capri Holdings</td>\n",
       "      <td>New York Stock Exchange</td>\n",
       "      <td>Metric Value</td>\n",
       "      <td>18901125.0</td>\n",
       "      <td>73.0</td>\n",
       "      <td>9.0</td>\n",
       "      <td>26762.0</td>\n",
       "      <td>5224916.0</td>\n",
       "    </tr>\n",
       "    <tr>\n",
       "      <th>4</th>\n",
       "      <td>Weekly</td>\n",
       "      <td>2023-03-25</td>\n",
       "      <td>Luxury &amp; Premium &amp; Mainstream</td>\n",
       "      <td>US Softlines Analyst Interest List</td>\n",
       "      <td>Versace</td>\n",
       "      <td>Capri Holdings</td>\n",
       "      <td>United States of America</td>\n",
       "      <td>Capri Holdings</td>\n",
       "      <td>New York Stock Exchange</td>\n",
       "      <td>Metric Value</td>\n",
       "      <td>30251374.0</td>\n",
       "      <td>54.0</td>\n",
       "      <td>10.0</td>\n",
       "      <td>25681.0</td>\n",
       "      <td>5760987.0</td>\n",
       "    </tr>\n",
       "  </tbody>\n",
       "</table>\n",
       "</div>"
      ],
      "text/plain": [
       "   period period_end_date                  compset_group  \\\n",
       "0  Weekly      2019-12-07  Luxury & Premium & Mainstream   \n",
       "1  Weekly      2021-01-30  Luxury & Premium & Mainstream   \n",
       "2  Weekly      2016-05-14  Luxury & Premium & Mainstream   \n",
       "3  Weekly      2019-04-20  Luxury & Premium & Mainstream   \n",
       "4  Weekly      2023-03-25  Luxury & Premium & Mainstream   \n",
       "\n",
       "                              compset business_entity_doing_business_as_name  \\\n",
       "0                         Soft Luxury                                Versace   \n",
       "1       Luxury & Premium & Mainstream                                Versace   \n",
       "2                         Soft Luxury                                Versace   \n",
       "3       Luxury & Premium & Mainstream                                Versace   \n",
       "4  US Softlines Analyst Interest List                                Versace   \n",
       "\n",
       "  legal_entity_name     domicile_country_name  \\\n",
       "0    Capri Holdings  United States of America   \n",
       "1    Capri Holdings  United States of America   \n",
       "2    Capri Holdings  United States of America   \n",
       "3    Capri Holdings  United States of America   \n",
       "4    Capri Holdings  United States of America   \n",
       "\n",
       "  ultimate_parent_legal_entity_name    primary_exchange_name calculation_type  \\\n",
       "0                    Capri Holdings  New York Stock Exchange     Metric Value   \n",
       "1                    Capri Holdings  New York Stock Exchange     Metric Value   \n",
       "2                    Capri Holdings  New York Stock Exchange     Metric Value   \n",
       "3                    Capri Holdings  New York Stock Exchange     Metric Value   \n",
       "4                    Capri Holdings  New York Stock Exchange     Metric Value   \n",
       "\n",
       "    followers  pictures  videos  comments      likes  \n",
       "0  22066189.0      97.0    13.0   16239.0  6112205.0  \n",
       "1  24289963.0      54.0     2.0   13358.0  3189144.0  \n",
       "2   7137442.0      42.0     8.0   15894.0  2152955.0  \n",
       "3  18901125.0      73.0     9.0   26762.0  5224916.0  \n",
       "4  30251374.0      54.0    10.0   25681.0  5760987.0  "
      ]
     },
     "execution_count": 6,
     "metadata": {},
     "output_type": "execute_result"
    }
   ],
   "source": [
    "data = pd.read_csv('/Users/cyrusachtari/Desktop/UBS-ZebraByte/data/skylab_instagram_datathon_dataset.csv', delimiter=';')\n",
    "data.head()"
   ]
  },
  {
   "cell_type": "code",
   "execution_count": 7,
   "metadata": {},
   "outputs": [],
   "source": [
    "def get_brand_data(brand, compset):\n",
    "    subset = data[(data['business_entity_doing_business_as_name'] == brand) & (data['compset'] == compset)]\n",
    "    return subset"
   ]
  },
  {
   "cell_type": "code",
   "execution_count": 62,
   "metadata": {},
   "outputs": [],
   "source": [
    "def check_likes(brand, date, compset_group):\n",
    "    subset = data[(data['business_entity_doing_business_as_name'] == brand) & (data['compset_group'] == compset_group) & (data['period_end_date'] == date)]\n",
    "    total = data[(data['business_entity_doing_business_as_name'] == brand) & (data['compset_group'] == compset_group) & (data['period_end_date'] == date) & (data['compset'] == compset_group)]\n",
    "    print(subset['likes'].sum()-total['likes'])    \n",
    "    print(total['likes'])\n",
    "    print(len(subset))\n",
    "    print(subset)\n",
    "    print(\"--------\")\n",
    "    print(total)\n",
    "    \n",
    "\n",
    "def print_likes_same(brand, date, compset_group):\n",
    "    subset = data[(data['business_entity_doing_business_as_name'] == brand) & (data['compset_group'] == compset_group) & (data['period_end_date'] == date)]\n",
    "    #Loop through each row in the subset\n",
    "    for index, row in subset.iterrows():\n",
    "        print(row['compset'])\n",
    "        print(row['likes'])\n",
    "\n",
    "def check_likes_same(brand, date, compset_group):\n",
    "    subset = data[(data['business_entity_doing_business_as_name'] == brand) & (data['compset_group'] == compset_group) & (data['period_end_date'] == date)]\n",
    "    #Check if the value of 'likes' is the same for all rows\n",
    "    if subset['likes'].nunique() == 1:\n",
    "        return False\n",
    "    else:\n",
    "        return True"
   ]
  },
  {
   "cell_type": "code",
   "execution_count": 71,
   "metadata": {},
   "outputs": [
    {
     "name": "stdout",
     "output_type": "stream",
     "text": [
      "US Softlines Analyst Interest List\n",
      "5760987.0\n",
      "Global Luxury Analysts Interest List\n",
      "5760987.0\n",
      "Soft Luxury\n",
      "5760987.0\n",
      "Luxury & Premium & Mainstream\n",
      "5760987.0\n"
     ]
    }
   ],
   "source": [
    "print_likes_same('Versace', '2023-03-25', 'Luxury & Premium & Mainstream')"
   ]
  },
  {
   "cell_type": "code",
   "execution_count": 64,
   "metadata": {},
   "outputs": [
    {
     "name": "stdout",
     "output_type": "stream",
     "text": [
      "ShopGoodwill Apparel Retail\n",
      "All Brands Luxury & Premium & Mainstream\n",
      "All Brands Apparel Retail\n",
      "All Brands Food Products\n",
      "All Brands Beverages\n",
      "All Brands Restaurants\n",
      "All Brands Sportswear & Athleisure\n",
      "All Brands Outdoor Gear\n",
      "All Brands Dermatology and Orthodontics\n"
     ]
    }
   ],
   "source": [
    "brands = data['business_entity_doing_business_as_name'].unique()\n",
    "\n",
    "for brand in brands:\n",
    "    compsets = data[data['business_entity_doing_business_as_name'] == brand]['compset_group'].unique()\n",
    "    for compset in compsets:\n",
    "        if check_likes_same(brand, '2023-03-11', compset):\n",
    "                print(brand, compset)"
   ]
  },
  {
   "cell_type": "code",
   "execution_count": 53,
   "metadata": {},
   "outputs": [
    {
     "name": "stdout",
     "output_type": "stream",
     "text": [
      "Luxury & Premium & Mainstream\n"
     ]
    },
    {
     "ename": "KeyboardInterrupt",
     "evalue": "",
     "output_type": "error",
     "traceback": [
      "\u001b[0;31m---------------------------------------------------------------------------\u001b[0m",
      "\u001b[0;31mKeyboardInterrupt\u001b[0m                         Traceback (most recent call last)",
      "Cell \u001b[0;32mIn[53], line 9\u001b[0m\n\u001b[1;32m      7\u001b[0m dates \u001b[38;5;241m=\u001b[39m data[(data[\u001b[38;5;124m'\u001b[39m\u001b[38;5;124mbusiness_entity_doing_business_as_name\u001b[39m\u001b[38;5;124m'\u001b[39m] \u001b[38;5;241m==\u001b[39m brand) \u001b[38;5;241m&\u001b[39m (data[\u001b[38;5;124m'\u001b[39m\u001b[38;5;124mcompset_group\u001b[39m\u001b[38;5;124m'\u001b[39m] \u001b[38;5;241m==\u001b[39m compset)][\u001b[38;5;124m'\u001b[39m\u001b[38;5;124mperiod_end_date\u001b[39m\u001b[38;5;124m'\u001b[39m]\u001b[38;5;241m.\u001b[39munique()\n\u001b[1;32m      8\u001b[0m \u001b[38;5;28;01mfor\u001b[39;00m date \u001b[38;5;129;01min\u001b[39;00m dates:\n\u001b[0;32m----> 9\u001b[0m     \u001b[38;5;28;01mif\u001b[39;00m \u001b[43mcheck_likes_same\u001b[49m\u001b[43m(\u001b[49m\u001b[43mbrand\u001b[49m\u001b[43m,\u001b[49m\u001b[43m \u001b[49m\u001b[43mdate\u001b[49m\u001b[43m,\u001b[49m\u001b[43m \u001b[49m\u001b[43mcompset\u001b[49m\u001b[43m)\u001b[49m:\n\u001b[1;32m     10\u001b[0m         \u001b[38;5;28mprint\u001b[39m(brand, date, compset)\n",
      "Cell \u001b[0;32mIn[51], line 13\u001b[0m, in \u001b[0;36mcheck_likes_same\u001b[0;34m(brand, date, compset_group)\u001b[0m\n\u001b[1;32m     12\u001b[0m \u001b[38;5;28;01mdef\u001b[39;00m \u001b[38;5;21mcheck_likes_same\u001b[39m(brand, date, compset_group):\n\u001b[0;32m---> 13\u001b[0m     subset \u001b[38;5;241m=\u001b[39m data[(data[\u001b[38;5;124m'\u001b[39m\u001b[38;5;124mbusiness_entity_doing_business_as_name\u001b[39m\u001b[38;5;124m'\u001b[39m] \u001b[38;5;241m==\u001b[39m brand) \u001b[38;5;241m&\u001b[39m (data[\u001b[38;5;124m'\u001b[39m\u001b[38;5;124mcompset_group\u001b[39m\u001b[38;5;124m'\u001b[39m] \u001b[38;5;241m==\u001b[39m compset_group) \u001b[38;5;241m&\u001b[39m (\u001b[43mdata\u001b[49m\u001b[43m[\u001b[49m\u001b[38;5;124;43m'\u001b[39;49m\u001b[38;5;124;43mperiod_end_date\u001b[39;49m\u001b[38;5;124;43m'\u001b[39;49m\u001b[43m]\u001b[49m\u001b[43m \u001b[49m\u001b[38;5;241;43m==\u001b[39;49m\u001b[43m \u001b[49m\u001b[43mdate\u001b[49m)]\n\u001b[1;32m     14\u001b[0m     \u001b[38;5;66;03m#Check if the value of 'likes' is the same for all rows\u001b[39;00m\n\u001b[1;32m     15\u001b[0m     \u001b[38;5;28;01mif\u001b[39;00m subset[\u001b[38;5;124m'\u001b[39m\u001b[38;5;124mlikes\u001b[39m\u001b[38;5;124m'\u001b[39m]\u001b[38;5;241m.\u001b[39mnunique() \u001b[38;5;241m==\u001b[39m \u001b[38;5;241m1\u001b[39m:\n",
      "File \u001b[0;32m/opt/miniconda3/envs/ML4HC/lib/python3.9/site-packages/pandas/core/ops/common.py:76\u001b[0m, in \u001b[0;36m_unpack_zerodim_and_defer.<locals>.new_method\u001b[0;34m(self, other)\u001b[0m\n\u001b[1;32m     72\u001b[0m             \u001b[38;5;28;01mreturn\u001b[39;00m \u001b[38;5;28mNotImplemented\u001b[39m\n\u001b[1;32m     74\u001b[0m other \u001b[38;5;241m=\u001b[39m item_from_zerodim(other)\n\u001b[0;32m---> 76\u001b[0m \u001b[38;5;28;01mreturn\u001b[39;00m \u001b[43mmethod\u001b[49m\u001b[43m(\u001b[49m\u001b[38;5;28;43mself\u001b[39;49m\u001b[43m,\u001b[49m\u001b[43m \u001b[49m\u001b[43mother\u001b[49m\u001b[43m)\u001b[49m\n",
      "File \u001b[0;32m/opt/miniconda3/envs/ML4HC/lib/python3.9/site-packages/pandas/core/arraylike.py:40\u001b[0m, in \u001b[0;36mOpsMixin.__eq__\u001b[0;34m(self, other)\u001b[0m\n\u001b[1;32m     38\u001b[0m \u001b[38;5;129m@unpack_zerodim_and_defer\u001b[39m(\u001b[38;5;124m\"\u001b[39m\u001b[38;5;124m__eq__\u001b[39m\u001b[38;5;124m\"\u001b[39m)\n\u001b[1;32m     39\u001b[0m \u001b[38;5;28;01mdef\u001b[39;00m \u001b[38;5;21m__eq__\u001b[39m(\u001b[38;5;28mself\u001b[39m, other):\n\u001b[0;32m---> 40\u001b[0m     \u001b[38;5;28;01mreturn\u001b[39;00m \u001b[38;5;28;43mself\u001b[39;49m\u001b[38;5;241;43m.\u001b[39;49m\u001b[43m_cmp_method\u001b[49m\u001b[43m(\u001b[49m\u001b[43mother\u001b[49m\u001b[43m,\u001b[49m\u001b[43m \u001b[49m\u001b[43moperator\u001b[49m\u001b[38;5;241;43m.\u001b[39;49m\u001b[43meq\u001b[49m\u001b[43m)\u001b[49m\n",
      "File \u001b[0;32m/opt/miniconda3/envs/ML4HC/lib/python3.9/site-packages/pandas/core/series.py:6110\u001b[0m, in \u001b[0;36mSeries._cmp_method\u001b[0;34m(self, other, op)\u001b[0m\n\u001b[1;32m   6107\u001b[0m lvalues \u001b[38;5;241m=\u001b[39m \u001b[38;5;28mself\u001b[39m\u001b[38;5;241m.\u001b[39m_values\n\u001b[1;32m   6108\u001b[0m rvalues \u001b[38;5;241m=\u001b[39m extract_array(other, extract_numpy\u001b[38;5;241m=\u001b[39m\u001b[38;5;28;01mTrue\u001b[39;00m, extract_range\u001b[38;5;241m=\u001b[39m\u001b[38;5;28;01mTrue\u001b[39;00m)\n\u001b[0;32m-> 6110\u001b[0m res_values \u001b[38;5;241m=\u001b[39m \u001b[43mops\u001b[49m\u001b[38;5;241;43m.\u001b[39;49m\u001b[43mcomparison_op\u001b[49m\u001b[43m(\u001b[49m\u001b[43mlvalues\u001b[49m\u001b[43m,\u001b[49m\u001b[43m \u001b[49m\u001b[43mrvalues\u001b[49m\u001b[43m,\u001b[49m\u001b[43m \u001b[49m\u001b[43mop\u001b[49m\u001b[43m)\u001b[49m\n\u001b[1;32m   6112\u001b[0m \u001b[38;5;28;01mreturn\u001b[39;00m \u001b[38;5;28mself\u001b[39m\u001b[38;5;241m.\u001b[39m_construct_result(res_values, name\u001b[38;5;241m=\u001b[39mres_name)\n",
      "File \u001b[0;32m/opt/miniconda3/envs/ML4HC/lib/python3.9/site-packages/pandas/core/ops/array_ops.py:344\u001b[0m, in \u001b[0;36mcomparison_op\u001b[0;34m(left, right, op)\u001b[0m\n\u001b[1;32m    341\u001b[0m     \u001b[38;5;28;01mreturn\u001b[39;00m invalid_comparison(lvalues, rvalues, op)\n\u001b[1;32m    343\u001b[0m \u001b[38;5;28;01melif\u001b[39;00m lvalues\u001b[38;5;241m.\u001b[39mdtype \u001b[38;5;241m==\u001b[39m \u001b[38;5;28mobject\u001b[39m \u001b[38;5;129;01mor\u001b[39;00m \u001b[38;5;28misinstance\u001b[39m(rvalues, \u001b[38;5;28mstr\u001b[39m):\n\u001b[0;32m--> 344\u001b[0m     res_values \u001b[38;5;241m=\u001b[39m \u001b[43mcomp_method_OBJECT_ARRAY\u001b[49m\u001b[43m(\u001b[49m\u001b[43mop\u001b[49m\u001b[43m,\u001b[49m\u001b[43m \u001b[49m\u001b[43mlvalues\u001b[49m\u001b[43m,\u001b[49m\u001b[43m \u001b[49m\u001b[43mrvalues\u001b[49m\u001b[43m)\u001b[49m\n\u001b[1;32m    346\u001b[0m \u001b[38;5;28;01melse\u001b[39;00m:\n\u001b[1;32m    347\u001b[0m     res_values \u001b[38;5;241m=\u001b[39m _na_arithmetic_op(lvalues, rvalues, op, is_cmp\u001b[38;5;241m=\u001b[39m\u001b[38;5;28;01mTrue\u001b[39;00m)\n",
      "File \u001b[0;32m/opt/miniconda3/envs/ML4HC/lib/python3.9/site-packages/pandas/core/ops/array_ops.py:129\u001b[0m, in \u001b[0;36mcomp_method_OBJECT_ARRAY\u001b[0;34m(op, x, y)\u001b[0m\n\u001b[1;32m    127\u001b[0m     result \u001b[38;5;241m=\u001b[39m libops\u001b[38;5;241m.\u001b[39mvec_compare(x\u001b[38;5;241m.\u001b[39mravel(), y\u001b[38;5;241m.\u001b[39mravel(), op)\n\u001b[1;32m    128\u001b[0m \u001b[38;5;28;01melse\u001b[39;00m:\n\u001b[0;32m--> 129\u001b[0m     result \u001b[38;5;241m=\u001b[39m \u001b[43mlibops\u001b[49m\u001b[38;5;241;43m.\u001b[39;49m\u001b[43mscalar_compare\u001b[49m\u001b[43m(\u001b[49m\u001b[43mx\u001b[49m\u001b[38;5;241;43m.\u001b[39;49m\u001b[43mravel\u001b[49m\u001b[43m(\u001b[49m\u001b[43m)\u001b[49m\u001b[43m,\u001b[49m\u001b[43m \u001b[49m\u001b[43my\u001b[49m\u001b[43m,\u001b[49m\u001b[43m \u001b[49m\u001b[43mop\u001b[49m\u001b[43m)\u001b[49m\n\u001b[1;32m    130\u001b[0m \u001b[38;5;28;01mreturn\u001b[39;00m result\u001b[38;5;241m.\u001b[39mreshape(x\u001b[38;5;241m.\u001b[39mshape)\n",
      "\u001b[0;31mKeyboardInterrupt\u001b[0m: "
     ]
    }
   ],
   "source": [
    "brands = data['business_entity_doing_business_as_name'].unique()\n",
    "\n",
    "for brand in brands:\n",
    "    compsets = data[data['business_entity_doing_business_as_name'] == brand]['compset_group'].unique()\n",
    "    for compset in compsets:\n",
    "        dates = data[(data['business_entity_doing_business_as_name'] == brand) & (data['compset_group'] == compset)]['period_end_date'].unique()\n",
    "        for date in dates:\n",
    "            if check_likes_same(brand, date, compset):\n",
    "                print(brand, date, compset)"
   ]
  },
  {
   "cell_type": "code",
   "execution_count": 8,
   "metadata": {},
   "outputs": [
    {
     "name": "stdout",
     "output_type": "stream",
     "text": [
      "       period period_end_date                  compset_group  \\\n",
      "10713  Weekly      2021-09-18  Luxury & Premium & Mainstream   \n",
      "10716  Weekly      2018-07-14  Luxury & Premium & Mainstream   \n",
      "10719  Weekly      2016-05-21  Luxury & Premium & Mainstream   \n",
      "10722  Weekly      2016-09-24  Luxury & Premium & Mainstream   \n",
      "10724  Weekly      2016-04-09  Luxury & Premium & Mainstream   \n",
      "\n",
      "                             compset business_entity_doing_business_as_name  \\\n",
      "10713  Luxury & Premium & Mainstream                          Louis Vuitton   \n",
      "10716  Luxury & Premium & Mainstream                          Louis Vuitton   \n",
      "10719  Luxury & Premium & Mainstream                          Louis Vuitton   \n",
      "10722  Luxury & Premium & Mainstream                          Louis Vuitton   \n",
      "10724  Luxury & Premium & Mainstream                          Louis Vuitton   \n",
      "\n",
      "                         legal_entity_name domicile_country_name  \\\n",
      "10713  LVMH Moet Hennessy Louis Vuitton SE                France   \n",
      "10716  LVMH Moet Hennessy Louis Vuitton SE                France   \n",
      "10719  LVMH Moet Hennessy Louis Vuitton SE                France   \n",
      "10722  LVMH Moet Hennessy Louis Vuitton SE                France   \n",
      "10724  LVMH Moet Hennessy Louis Vuitton SE                France   \n",
      "\n",
      "         ultimate_parent_legal_entity_name primary_exchange_name  \\\n",
      "10713  LVMH Moet Hennessy Louis Vuitton SE        Euronext Paris   \n",
      "10716  LVMH Moet Hennessy Louis Vuitton SE        Euronext Paris   \n",
      "10719  LVMH Moet Hennessy Louis Vuitton SE        Euronext Paris   \n",
      "10722  LVMH Moet Hennessy Louis Vuitton SE        Euronext Paris   \n",
      "10724  LVMH Moet Hennessy Louis Vuitton SE        Euronext Paris   \n",
      "\n",
      "      calculation_type   followers  pictures  videos  comments      likes  \n",
      "10713     Metric Value  45602638.0      47.0    22.0   49546.0  7426710.0  \n",
      "10716     Metric Value  25754328.0      66.0    27.0   42083.0  8391612.0  \n",
      "10719     Metric Value  11036781.0      33.0     8.0   13303.0  2298256.0  \n",
      "10722     Metric Value  13028370.0       8.0     4.0    3802.0   899276.0  \n",
      "10724     Metric Value  10418496.0      11.0     7.0    7689.0   996285.0  \n"
     ]
    }
   ],
   "source": [
    "print(get_brand_data('Louis Vuitton', 'Luxury & Premium & Mainstream').head())"
   ]
  },
  {
   "cell_type": "code",
   "execution_count": 72,
   "metadata": {},
   "outputs": [
    {
     "name": "stdout",
     "output_type": "stream",
     "text": [
      "All Brands\n"
     ]
    }
   ],
   "source": [
    "brands = data['business_entity_doing_business_as_name'].unique()\n",
    "\n",
    "for brand in brands:\n",
    "    compsets = data[data['business_entity_doing_business_as_name'] == brand]['compset_group'].unique()\n",
    "    if len(compsets) > 1:\n",
    "        print(brand)"
   ]
  },
  {
   "cell_type": "code",
   "execution_count": null,
   "metadata": {},
   "outputs": [],
   "source": []
  }
 ],
 "metadata": {
  "kernelspec": {
   "display_name": "ML4HC",
   "language": "python",
   "name": "python3"
  },
  "language_info": {
   "codemirror_mode": {
    "name": "ipython",
    "version": 3
   },
   "file_extension": ".py",
   "mimetype": "text/x-python",
   "name": "python",
   "nbconvert_exporter": "python",
   "pygments_lexer": "ipython3",
   "version": "3.9.19"
  }
 },
 "nbformat": 4,
 "nbformat_minor": 2
}
