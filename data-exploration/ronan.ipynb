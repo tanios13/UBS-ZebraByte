{
 "cells": [
  {
   "cell_type": "markdown",
   "metadata": {},
   "source": [
    "## Data exploration"
   ]
  },
  {
   "cell_type": "code",
   "execution_count": 2,
   "metadata": {},
   "outputs": [],
   "source": [
    "import pandas as pd"
   ]
  },
  {
   "cell_type": "code",
   "execution_count": 3,
   "metadata": {},
   "outputs": [],
   "source": [
    "df = pd.read_csv(\"../data/skylab_instagram_datathon_dataset.csv\", delimiter=\";\")"
   ]
  },
  {
   "cell_type": "code",
   "execution_count": 4,
   "metadata": {},
   "outputs": [],
   "source": [
    "# Convert 'date' column to datetime format\n",
    "df[\"period_end_date\"] = pd.to_datetime(df['period_end_date'], format=\"%Y-%m-%d\")\n",
    "\n",
    "# Sort DataFrame by 'date' column in ascending order\n",
    "df = df.sort_values(by='period_end_date', ascending=True)"
   ]
  },
  {
   "cell_type": "code",
   "execution_count": 5,
   "metadata": {},
   "outputs": [
    {
     "data": {
      "image/png": "[encoded data removed]",
      "text/plain": [
       "<Figure size 500x300 with 1 Axes>"
      ]
     },
     "metadata": {},
     "output_type": "display_data"
    }
   ],
   "source": [
    "import pandas as pd\n",
    "import matplotlib.pyplot as plt\n",
    "\n",
    "# Assuming df is your DataFrame with dates\n",
    "# Let's create a sample DataFrame for demonstration\n",
    "plotted_df = df.copy()\n",
    "\n",
    "# Extract year from dates\n",
    "plotted_df['year'] = plotted_df['period_end_date'].dt.year\n",
    "\n",
    "# Plot histogram\n",
    "plt.figure(figsize=(5, 3))\n",
    "plt.hist(plotted_df['year'], bins=len(plotted_df['year'].unique()), color='skyblue', edgecolor='black')\n",
    "plt.xlabel('Year')\n",
    "plt.ylabel('Frequency')\n",
    "plt.title('Histogram of Years')\n",
    "plt.grid(True)\n",
    "plt.show()"
   ]
  },
  {
   "cell_type": "markdown",
   "metadata": {},
   "source": [
    "### Separate aggregated values from values"
   ]
  },
  {
   "cell_type": "code",
   "execution_count": 6,
   "metadata": {},
   "outputs": [],
   "source": [
    "# Renaming columns\n",
    "df_renamed = df.rename(columns={\"business_entity_doing_business_as_name\": \"brand\", \"legal_entity_name\": \"company\", \"ultimate_parent_legal_entity_name\": \"parent_company\"})"
   ]
  },
  {
   "cell_type": "code",
   "execution_count": 7,
   "metadata": {},
   "outputs": [],
   "source": [
    "all_brands = df_renamed[df_renamed[\"brand\"] == \"All Brands\"]\n",
    "brands = df_renamed[df_renamed[\"brand\"] != \"All Brands\"]"
   ]
  },
  {
   "cell_type": "markdown",
   "metadata": {},
   "source": [
    "### Check and fill na"
   ]
  },
  {
   "cell_type": "code",
   "execution_count": 8,
   "metadata": {},
   "outputs": [
    {
     "name": "stdout",
     "output_type": "stream",
     "text": [
      "Column domicile_country_name contains na\n",
      "Column primary_exchange_name contains na\n",
      "Column followers contains na\n",
      "Column pictures contains na\n",
      "Column videos contains na\n",
      "Column comments contains na\n",
      "Column likes contains na\n"
     ]
    }
   ],
   "source": [
    "# Check for na\n",
    "for column in brands.columns:\n",
    "    if len(brands[brands[column].isna()]):\n",
    "        print(f\"Column {column} contains na\")"
   ]
  },
  {
   "cell_type": "code",
   "execution_count": 9,
   "metadata": {},
   "outputs": [],
   "source": [
    "# Replace na of exchange with private\n",
    "brands.loc[:, \"primary_exchange_name\"] = brands[\"primary_exchange_name\"].fillna(\"Private\")"
   ]
  },
  {
   "cell_type": "code",
   "execution_count": 10,
   "metadata": {},
   "outputs": [
    {
     "data": {
      "text/plain": [
       "122582"
      ]
     },
     "execution_count": 10,
     "metadata": {},
     "output_type": "execute_result"
    }
   ],
   "source": [
    "nan_followers_count = len(brands[brands[\"followers\"].isna()])\n",
    "nan_followers_count"
   ]
  },
  {
   "cell_type": "markdown",
   "metadata": {},
   "source": [
    "### Find if NAs are intruisive or in external intervals"
   ]
  },
  {
   "cell_type": "code",
   "execution_count": 11,
   "metadata": {},
   "outputs": [],
   "source": [
    "brands_names = brands[\"brand\"].drop_duplicates()"
   ]
  },
  {
   "cell_type": "code",
   "execution_count": 12,
   "metadata": {},
   "outputs": [],
   "source": [
    "na_intervals = []\n",
    "columns = [\"followers\", \"likes\", \"pictures\", \"videos\"]\n",
    "\n",
    "for column in columns:\n",
    "    for brand in brands_names:\n",
    "        brand_followers = brands[brands[\"brand\"] == brand][[\"period_end_date\", column]].sort_values(\"period_end_date\")\n",
    "\n",
    "        # Get the bounds of nan\n",
    "        start_nan = brand_followers[brand_followers[column].isna()][\"period_end_date\"].min()\n",
    "        end_nan = brand_followers[brand_followers[column].isna()][\"period_end_date\"].max()\n",
    "\n",
    "        # Get the bounds of not nan\n",
    "        start_not_nan = brand_followers[brand_followers[column].notna()][\"period_end_date\"].min()\n",
    "        end_not_nan = brand_followers[brand_followers[column].notna()][\"period_end_date\"].max()\n",
    "\n",
    "        if (pd.isna(start_nan) or pd.isna(end_nan))\\\n",
    "            or (start_nan < start_not_nan and end_nan < start_not_nan)\\\n",
    "            or (start_nan > end_not_nan or end_nan > end_not_nan):\n",
    "            na_intervals.append({\n",
    "                \"brand\": brand,\n",
    "                \"column\": column,\n",
    "                \"start\": start_nan,\n",
    "                \"end\": end_nan,\n",
    "                \"intruisive_na\": False\n",
    "            })\n",
    "        else:\n",
    "            na_intervals.append({\n",
    "                \"brand\": brand,\n",
    "                \"column\": column,\n",
    "                \"start\": start_nan,\n",
    "                \"end\": end_nan,\n",
    "                \"intruisive_na\": True\n",
    "            })\n",
    "        "
   ]
  },
  {
   "cell_type": "code",
   "execution_count": 14,
   "metadata": {},
   "outputs": [],
   "source": [
    "na_intervals_df = pd.DataFrame(na_intervals)"
   ]
  },
  {
   "cell_type": "code",
   "execution_count": 42,
   "metadata": {},
   "outputs": [
    {
     "data": {
      "text/html": [
       "<div>\n",
       "<style scoped>\n",
       "    .dataframe tbody tr th:only-of-type {\n",
       "        vertical-align: middle;\n",
       "    }\n",
       "\n",
       "    .dataframe tbody tr th {\n",
       "        vertical-align: top;\n",
       "    }\n",
       "\n",
       "    .dataframe thead th {\n",
       "        text-align: right;\n",
       "    }\n",
       "</style>\n",
       "<table border=\"1\" class=\"dataframe\">\n",
       "  <thead>\n",
       "    <tr style=\"text-align: right;\">\n",
       "      <th></th>\n",
       "      <th>brand</th>\n",
       "      <th>column</th>\n",
       "      <th>start</th>\n",
       "      <th>end</th>\n",
       "      <th>intruisive_na</th>\n",
       "    </tr>\n",
       "  </thead>\n",
       "  <tbody>\n",
       "    <tr>\n",
       "      <th>0</th>\n",
       "      <td>Hering</td>\n",
       "      <td>followers</td>\n",
       "      <td>2015-01-03</td>\n",
       "      <td>2015-04-25</td>\n",
       "      <td>False</td>\n",
       "    </tr>\n",
       "    <tr>\n",
       "      <th>1</th>\n",
       "      <td>Longines</td>\n",
       "      <td>followers</td>\n",
       "      <td>2015-01-03</td>\n",
       "      <td>2018-06-02</td>\n",
       "      <td>False</td>\n",
       "    </tr>\n",
       "    <tr>\n",
       "      <th>2</th>\n",
       "      <td>3.1 Phillip Lim</td>\n",
       "      <td>followers</td>\n",
       "      <td>2015-01-03</td>\n",
       "      <td>2015-05-02</td>\n",
       "      <td>False</td>\n",
       "    </tr>\n",
       "    <tr>\n",
       "      <th>3</th>\n",
       "      <td>Quorn</td>\n",
       "      <td>followers</td>\n",
       "      <td>2015-01-03</td>\n",
       "      <td>2018-03-03</td>\n",
       "      <td>False</td>\n",
       "    </tr>\n",
       "    <tr>\n",
       "      <th>4</th>\n",
       "      <td>Proenza Schouler</td>\n",
       "      <td>followers</td>\n",
       "      <td>NaT</td>\n",
       "      <td>NaT</td>\n",
       "      <td>False</td>\n",
       "    </tr>\n",
       "    <tr>\n",
       "      <th>...</th>\n",
       "      <td>...</td>\n",
       "      <td>...</td>\n",
       "      <td>...</td>\n",
       "      <td>...</td>\n",
       "      <td>...</td>\n",
       "    </tr>\n",
       "    <tr>\n",
       "      <th>2815</th>\n",
       "      <td>Sculptra</td>\n",
       "      <td>videos</td>\n",
       "      <td>NaT</td>\n",
       "      <td>NaT</td>\n",
       "      <td>False</td>\n",
       "    </tr>\n",
       "    <tr>\n",
       "      <th>2816</th>\n",
       "      <td>Temu</td>\n",
       "      <td>videos</td>\n",
       "      <td>2022-09-03</td>\n",
       "      <td>2023-02-04</td>\n",
       "      <td>False</td>\n",
       "    </tr>\n",
       "    <tr>\n",
       "      <th>2817</th>\n",
       "      <td>Finding Unicorn</td>\n",
       "      <td>videos</td>\n",
       "      <td>NaT</td>\n",
       "      <td>NaT</td>\n",
       "      <td>False</td>\n",
       "    </tr>\n",
       "    <tr>\n",
       "      <th>2818</th>\n",
       "      <td>Pop Mart</td>\n",
       "      <td>videos</td>\n",
       "      <td>NaT</td>\n",
       "      <td>NaT</td>\n",
       "      <td>False</td>\n",
       "    </tr>\n",
       "    <tr>\n",
       "      <th>2819</th>\n",
       "      <td>ShopGoodwill</td>\n",
       "      <td>videos</td>\n",
       "      <td>2023-03-25</td>\n",
       "      <td>2023-07-29</td>\n",
       "      <td>False</td>\n",
       "    </tr>\n",
       "  </tbody>\n",
       "</table>\n",
       "<p>2820 rows × 5 columns</p>\n",
       "</div>"
      ],
      "text/plain": [
       "                 brand     column      start        end  intruisive_na\n",
       "0               Hering  followers 2015-01-03 2015-04-25          False\n",
       "1             Longines  followers 2015-01-03 2018-06-02          False\n",
       "2      3.1 Phillip Lim  followers 2015-01-03 2015-05-02          False\n",
       "3                Quorn  followers 2015-01-03 2018-03-03          False\n",
       "4     Proenza Schouler  followers        NaT        NaT          False\n",
       "...                ...        ...        ...        ...            ...\n",
       "2815          Sculptra     videos        NaT        NaT          False\n",
       "2816              Temu     videos 2022-09-03 2023-02-04          False\n",
       "2817   Finding Unicorn     videos        NaT        NaT          False\n",
       "2818          Pop Mart     videos        NaT        NaT          False\n",
       "2819      ShopGoodwill     videos 2023-03-25 2023-07-29          False\n",
       "\n",
       "[2820 rows x 5 columns]"
      ]
     },
     "execution_count": 42,
     "metadata": {},
     "output_type": "execute_result"
    }
   ],
   "source": [
    "na_intervals_df"
   ]
  },
  {
   "cell_type": "markdown",
   "metadata": {},
   "source": [
    "#### Check if missing values are the latest data"
   ]
  },
  {
   "cell_type": "code",
   "execution_count": 22,
   "metadata": {},
   "outputs": [],
   "source": [
    "max_date = brands[\"period_end_date\"].max()"
   ]
  },
  {
   "cell_type": "code",
   "execution_count": 41,
   "metadata": {},
   "outputs": [
    {
     "data": {
      "text/plain": [
       "array(['Simmons', 'LP Building Products', 'East Bay', 'Bottega Veneta',\n",
       "       \"Carter's\", 'Sperry', 'Serta', 'Nature Valley', 'Nautica',\n",
       "       'Bobbi Brown', 'Anta', \"OshKosh B'gosh\", 'Kanebo',\n",
       "       'Michelob Ultra', 'Skip Hop', 'Runnerspoint', 'Fashion Nova',\n",
       "       'Modelo', 'Yoplait', 'Invisalign', 'CertainTeed', 'CCC Shoes',\n",
       "       'John Frieda', 'Whiskas', 'Vegetarian Butcher', 'Tempur',\n",
       "       'Breville', 'Schweppes', 'Becca', 'Sizeer', 'iRobot',\n",
       "       'Ninja Kitchen', 'About You', 'Sensai', 'Izod', 'Restylane',\n",
       "       'Ecovacs', \"Beck's\", 'Shark Home', 'Garden Gourmet', 'Revanesse',\n",
       "       'Sol', 'Elemis', 'Hoegaarden', 'Bulgari Beauty', 'Carla Amorim',\n",
       "       'Royal Building Products', 'The Meatless Farm', 'Tineco',\n",
       "       'Roborock', 'Superdown', 'ORCA', 'Burberry Beauty',\n",
       "       'Pure Farmland', 'Spaten', 'Dysport', 'Sculptra', 'Temu',\n",
       "       'Finding Unicorn', 'Pop Mart', 'Rolife', 'Wahoo Fitness',\n",
       "       'Belotero', 'My Shoes', 'Tonica Antarctica', 'Value Village',\n",
       "       'Pacifico', 'ShopGoodwill'], dtype=object)"
      ]
     },
     "execution_count": 41,
     "metadata": {},
     "output_type": "execute_result"
    }
   ],
   "source": [
    "na_intervals_df[na_intervals_df[\"end\"] > max_date - pd.DateOffset(years=4)][\"brand\"].unique()"
   ]
  },
  {
   "cell_type": "code",
   "execution_count": 41,
   "metadata": {},
   "outputs": [
    {
     "data": {
      "text/html": [
       "<div>\n",
       "<style scoped>\n",
       "    .dataframe tbody tr th:only-of-type {\n",
       "        vertical-align: middle;\n",
       "    }\n",
       "\n",
       "    .dataframe tbody tr th {\n",
       "        vertical-align: top;\n",
       "    }\n",
       "\n",
       "    .dataframe thead th {\n",
       "        text-align: right;\n",
       "    }\n",
       "</style>\n",
       "<table border=\"1\" class=\"dataframe\">\n",
       "  <thead>\n",
       "    <tr style=\"text-align: right;\">\n",
       "      <th></th>\n",
       "      <th>brand</th>\n",
       "      <th>column</th>\n",
       "      <th>start</th>\n",
       "      <th>end</th>\n",
       "      <th>intruisive_na</th>\n",
       "    </tr>\n",
       "  </thead>\n",
       "  <tbody>\n",
       "  </tbody>\n",
       "</table>\n",
       "</div>"
      ],
      "text/plain": [
       "Empty DataFrame\n",
       "Columns: [brand, column, start, end, intruisive_na]\n",
       "Index: []"
      ]
     },
     "execution_count": 41,
     "metadata": {},
     "output_type": "execute_result"
    }
   ],
   "source": [
    "intruisive_na_df = na_intervals_df[na_intervals_df[\"intruisive_na\"] == True]\n",
    "intruisive_na_df"
   ]
  },
  {
   "cell_type": "markdown",
   "metadata": {},
   "source": [
    "**=> No intrusive data found**"
   ]
  },
  {
   "cell_type": "markdown",
   "metadata": {},
   "source": [
    "## Stocks"
   ]
  },
  {
   "cell_type": "code",
   "execution_count": null,
   "metadata": {},
   "outputs": [],
   "source": [
    "import requests\n",
    "\n",
    "API_KEY = \"SUXSALQJDNMC5N1C\"\n",
    "\n",
    "# Function to fetch stock prices\n",
    "def fetch_stock_prices(symbol):\n",
    "    url = f'https://www.alphavantage.co/query?function=TIME_SERIES_DAILY&q={symbol}&apikey={API_KEY}'\n",
    "    \n",
    "    try:\n",
    "        response = requests.get(url)\n",
    "        data = response.json()\n",
    "\n",
    "        # Extract daily stock prices\n",
    "        if 'Time Series (Daily)' in data:\n",
    "            time_series = data['Time Series (Daily)']\n",
    "            # Print the latest available stock price\n",
    "            latest_date = max(time_series.keys())\n",
    "            latest_price = time_series[latest_date]['4. close']\n",
    "            print(f\"Latest closing price for {symbol}: ${latest_price}\")\n",
    "        else:\n",
    "            print(\"No data available for the given symbol.\")\n",
    "    \n",
    "    except Exception as e:\n",
    "        print(\"Error fetching data:\", e)\n",
    "\n",
    "# Example usage\n",
    "fetch_stock_prices('LVMH Moet Hennessy Louis Vuitton SE')  # Replace 'AAPL' with the symbol of the stock you want to fetch"
   ]
  },
  {
   "cell_type": "code",
   "execution_count": null,
   "metadata": {},
   "outputs": [],
   "source": [
    "import requests\n",
    "\n",
    "def get_ticker_symbol(company_name):\n",
    "    API_KEY = 'SUXSALQJDNMC5N1C'\n",
    "    base_url = \"https://www.alphavantage.co/query?\"\n",
    "    params = {\n",
    "        \"function\": \"SYMBOL_SEARCH\",\n",
    "        \"keywords\": company_name,\n",
    "        \"apikey\": API_KEY\n",
    "    }\n",
    "    response = requests.get(base_url, params=params)\n",
    "    data = response.json()\n",
    "    try:\n",
    "        # Assuming the first result is the most relevant\n",
    "        return data['bestMatches']\n",
    "    except (IndexError, KeyError):\n",
    "        return \"Symbol not found\"\n",
    "\n",
    "# Example usage\n",
    "company_name = 'LVMH Moet Hennessy Louis Vuitton SE'\n",
    "print(get_ticker_symbol(company_name))"
   ]
  },
  {
   "cell_type": "code",
   "execution_count": null,
   "metadata": {},
   "outputs": [],
   "source": [
    "fetch_stock_prices(get_ticker_symbol(company_name))"
   ]
  },
  {
   "cell_type": "code",
   "execution_count": null,
   "metadata": {},
   "outputs": [],
   "source": [
    "import yfinance as yf\n",
    "\n",
    "def get_stock_symbol(company_name):\n",
    "    # Search for the company by its name\n",
    "    company = yf.Ticker(company_name)\n",
    "    \n",
    "    # Get the stock symbol\n",
    "    symbol = company\n",
    "    return symbol\n",
    "\n",
    "def fetch_market_data(company_name):\n",
    "    # Get the stock symbol for the company\n",
    "    symbol = get_stock_symbol(company_name)\n",
    "    \n",
    "    # Fetch market data for the company\n",
    "    company_data = yf.download(symbol)\n",
    "    return company_data\n",
    "\n",
    "# Example usage\n",
    "company_name = \"LVMH Moet Hennessy Louis Vuitton SE\"\n",
    "company_data = fetch_market_data(company_name)\n",
    "print(company_data)"
   ]
  }
 ],
 "metadata": {
  "kernelspec": {
   "display_name": "pai-demos",
   "language": "python",
   "name": "python3"
  },
  "language_info": {
   "codemirror_mode": {
    "name": "ipython",
    "version": 3
   },
   "file_extension": ".py",
   "mimetype": "text/x-python",
   "name": "python",
   "nbconvert_exporter": "python",
   "pygments_lexer": "ipython3",
   "version": "3.9.18"
  }
 },
 "nbformat": 4,
 "nbformat_minor": 2
}
